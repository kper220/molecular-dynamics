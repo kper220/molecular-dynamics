{
 "cells": [
  {
   "cell_type": "markdown",
   "metadata": {},
   "source": [
    "# Wiener Process\n",
    "\n",
    "Modeling a standard Wiener process."
   ]
  },
  {
   "cell_type": "code",
   "execution_count": null,
   "metadata": {},
   "outputs": [],
   "source": [
    "import matplotlib.pyplot as plt\n",
    "from mpl_toolkits import mplot3d\n",
    "import numpy as np\n",
    "\n",
    "from wiener_process import wiener_process"
   ]
  },
  {
   "cell_type": "code",
   "execution_count": null,
   "metadata": {},
   "outputs": [],
   "source": [
    "tt = np.linspace(0, 1, 10**4)"
   ]
  },
  {
   "cell_type": "markdown",
   "metadata": {},
   "source": [
    "One dimensional plot."
   ]
  },
  {
   "cell_type": "code",
   "execution_count": null,
   "metadata": {},
   "outputs": [],
   "source": [
    "plt.plot(tt, wiener_process(np.array([0]), tt))\n",
    "plt.title('Wiener process in one dimension')\n",
    "plt.show()"
   ]
  },
  {
   "cell_type": "markdown",
   "metadata": {},
   "source": [
    "Frame function: let our plot be bounded by $(x_\\min, x_\\max)\\times(y_\\min, y_\\max)$. We want to put this plot in the smallest square frame (placed orthogonally) which contains the plot. Let $\\overline{x} = \\mathrm{avg}(x_\\min, x_\\max)$ and $\\overline{y} = \\mathrm{avg}(y_\\min, y_\\max)$, then the center of the square is at $(\\overline{x}, \\overline{y})$. Next we have the width of the square, determined by the greater of $2(\\overline{x} - x_\\min)$ or $2(\\overline{y} - y_\\min)$. "
   ]
  },
  {
   "cell_type": "code",
   "execution_count": null,
   "metadata": {},
   "outputs": [],
   "source": [
    "def square_frame(xx, yy):\n",
    "    x_min, x_max = min(xx), max(xx)\n",
    "    y_min, y_max = min(yy), max(yy)\n",
    "    x_bar, y_bar = np.average([x_min, x_max]), np.average([y_min, y_max])\n",
    "    dx, dy = x_bar - x_min, y_bar - y_min\n",
    "    \n",
    "    d = max(dx, dy)\n",
    "    return x_bar - d, x_bar + d, y_bar - d, y_bar + d"
   ]
  },
  {
   "cell_type": "code",
   "execution_count": null,
   "metadata": {},
   "outputs": [],
   "source": [
    "tt = np.linspace(0, 1, 10**6)\n",
    "\n",
    "initial_state = np.array([0, 0])\n",
    "ss = wiener_process(initial_state, tt)\n",
    "xx = np.array([s[0] for s in ss])\n",
    "yy = np.array([s[1] for s in ss])\n",
    "\n",
    "x_min, x_max, y_min, y_max = square_frame(xx, yy)\n",
    "\n",
    "plt.figure(figsize = (6.4*2, 6.4*2))\n",
    "plt.plot(xx, yy, color = 'black', linewidth = .1)\n",
    "plt.axis('off')\n",
    "plt.xlim(x_min, x_max)\n",
    "plt.ylim(y_min, y_max)\n",
    "plt.savefig('wiener_process.png')\n",
    "plt.show()"
   ]
  },
  {
   "cell_type": "code",
   "execution_count": null,
   "metadata": {},
   "outputs": [],
   "source": []
  }
 ],
 "metadata": {
  "kernelspec": {
   "display_name": "Python 3",
   "language": "python",
   "name": "python3"
  },
  "language_info": {
   "codemirror_mode": {
    "name": "ipython",
    "version": 3
   },
   "file_extension": ".py",
   "mimetype": "text/x-python",
   "name": "python",
   "nbconvert_exporter": "python",
   "pygments_lexer": "ipython3",
   "version": "3.6.6"
  }
 },
 "nbformat": 4,
 "nbformat_minor": 2
}
