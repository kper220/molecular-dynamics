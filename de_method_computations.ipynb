{
 "cells": [
  {
   "cell_type": "code",
   "execution_count": null,
   "metadata": {},
   "outputs": [],
   "source": [
    "import matplotlib.pyplot as plt\n",
    "from mpl_toolkits import mplot3d\n",
    "import numpy as np\n",
    "from numpy import linalg\n",
    "from de_method_computations import construct_solver\n",
    "import time"
   ]
  },
  {
   "cell_type": "code",
   "execution_count": null,
   "metadata": {},
   "outputs": [],
   "source": [
    "P = np.array([\n",
    "    [1,2],\n",
    "    [3,5]\n",
    "])\n",
    "D = np.array([-1, -.5])\n",
    "C = np.array([\n",
    "    [1],\n",
    "    [2]\n",
    "])\n",
    "\n",
    "construct_solution, construct_iterator = construct_solver(P, D, C = None)\n",
    "\n",
    "tt = np.linspace(0, 5, 10**4)\n",
    "initial_condition = np.array([1, 1])\n",
    "\n",
    "solution = construct_solution(initial_condition)\n",
    "solve = construct_iterator(tt)\n",
    "\n",
    "d_solution = solution(tt)\n",
    "r_solution = solve(initial_condition)\n",
    "\n",
    "plt.subplots(1, 2, figsize = (6.4*2, 4.8))\n",
    "plt.subplot(1, 2, 1)\n",
    "plt.plot(tt, d_solution)\n",
    "\n",
    "plt.subplot(1, 2, 2)\n",
    "plt.plot(tt, r_solution)\n",
    "plt.show()"
   ]
  },
  {
   "cell_type": "markdown",
   "metadata": {},
   "source": [
    "Analyzing efficiency."
   ]
  },
  {
   "cell_type": "code",
   "execution_count": null,
   "metadata": {},
   "outputs": [],
   "source": [
    "nn = np.exp(np.linspace(1, 10, 200))\n",
    "ttt = [np.linspace(0, 10, int(n)) for n in nn]\n",
    "\n",
    "d_time = [None for _ in nn]\n",
    "r_time = [None for _ in nn]\n",
    "\n",
    "construct_solution, construct_iterator = construct_solver(P, D, C = C)\n",
    "solution = construct_solution(initial_condition)\n",
    "\n",
    "for i, tt in enumerate(ttt):\n",
    "    solve = construct_iterator(tt)\n",
    "    \n",
    "    start = time.time()\n",
    "    d_solution = solution(tt)\n",
    "    d_time[i] = time.time() - start\n",
    "    \n",
    "    start = time.time()\n",
    "    r_solution = solve(initial_condition)\n",
    "    r_time[i] = time.time() - start\n",
    "    pass"
   ]
  },
  {
   "cell_type": "code",
   "execution_count": null,
   "metadata": {},
   "outputs": [],
   "source": [
    "plt.plot(nn, d_time, label = 'exact solve')\n",
    "plt.plot(nn, r_time, label = 'iterated solve')\n",
    "plt.xlabel('iterations')\n",
    "plt.ylabel('s')\n",
    "plt.legend()\n",
    "plt.savefig('comparison.png')\n",
    "plt.show()"
   ]
  },
  {
   "cell_type": "code",
   "execution_count": null,
   "metadata": {},
   "outputs": [],
   "source": []
  }
 ],
 "metadata": {
  "kernelspec": {
   "display_name": "Python 3",
   "language": "python",
   "name": "python3"
  },
  "language_info": {
   "codemirror_mode": {
    "name": "ipython",
    "version": 3
   },
   "file_extension": ".py",
   "mimetype": "text/x-python",
   "name": "python",
   "nbconvert_exporter": "python",
   "pygments_lexer": "ipython3",
   "version": "3.6.6"
  }
 },
 "nbformat": 4,
 "nbformat_minor": 2
}
