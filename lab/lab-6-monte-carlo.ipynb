{
 "cells": [
  {
   "cell_type": "markdown",
   "metadata": {},
   "source": [
    "# Monte Carlo Method"
   ]
  },
  {
   "cell_type": "code",
   "execution_count": null,
   "metadata": {},
   "outputs": [],
   "source": [
    "import matplotlib.pyplot as plt\n",
    "import numpy as np\n",
    "import random"
   ]
  },
  {
   "cell_type": "markdown",
   "metadata": {},
   "source": [
    "## Principles\n",
    "\n",
    "Let $\\rho(x):\\mathcal{X}\\to[0,1]$ be a density function and $\\{x_i\\}_{i=1}^N$ be a set of samples. The $N$ samples can approximate the target density, $$\\rho_N(x) = \\dfrac{1}{N}\\sum_{i = 1}^N\\delta_{x^{(i)}}(x).$$"
   ]
  },
  {
   "cell_type": "markdown",
   "metadata": {},
   "source": [
    "### Rolled Dice\n",
    "\n",
    "The density function $\\rho:\\{1,2,3,4,5,6\\}\\to\\mathbb{R}$ such that $\\rho(x) = 1/6$."
   ]
  },
  {
   "cell_type": "code",
   "execution_count": null,
   "metadata": {},
   "outputs": [],
   "source": [
    "N = 10**5\n",
    "X = [random.randint(0, 6) for i in range(N)]"
   ]
  },
  {
   "cell_type": "code",
   "execution_count": null,
   "metadata": {},
   "outputs": [],
   "source": [
    "plt.hist(X, range(1, 8), density = True)\n",
    "plt.axhline(1/6, color = 'orange')\n",
    "plt.show()"
   ]
  },
  {
   "cell_type": "markdown",
   "metadata": {},
   "source": [
    "### Normal Distribution\n",
    "\n",
    "The density function for a normal distribution is $$\\dfrac{1}{\\sqrt{2\\pi\\sigma^2}}\\exp\\bigg[(-\\dfrac{(x-\\mu)^2)}{2\\sigma^2}\\bigg]$$"
   ]
  },
  {
   "cell_type": "code",
   "execution_count": null,
   "metadata": {},
   "outputs": [],
   "source": [
    "def normal(x, mu = 0, sigma = 1):\n",
    "    return np.exp(-np.power((x-mu), 2) / (2*np.power(sigma, 2)))*1/np.sqrt(2*np.pi*np.power(sigma, 2))"
   ]
  },
  {
   "cell_type": "code",
   "execution_count": null,
   "metadata": {},
   "outputs": [],
   "source": [
    "X = np.random.normal(0, 1, N)\n",
    "\n",
    "x_min, x_max = min(X), max(X)"
   ]
  },
  {
   "cell_type": "code",
   "execution_count": null,
   "metadata": {},
   "outputs": [],
   "source": [
    "plt.hist(X, 50, density = True)\n",
    "xx = np.linspace(x_min, x_max, 100)\n",
    "plt.plot(xx, normal(xx))\n",
    "plt.show()"
   ]
  },
  {
   "cell_type": "markdown",
   "metadata": {},
   "source": [
    "### Sum of two random numbers from uniform distribution\n",
    "\n",
    "Let the probability density function $\\rho(x) = 1$, and $\\mathcal{X}$, $\\mathcal{Y}$ be samples of size $N$. We find the difference, $Z = X + Y$."
   ]
  },
  {
   "cell_type": "code",
   "execution_count": null,
   "metadata": {},
   "outputs": [],
   "source": [
    "X = [random.uniform(0, 1) for _ in range(N)]\n",
    "Y = [random.uniform(0, 1) for _ in range(N)]\n",
    "Z = [X[i] + Y[i] for i in range(N)]\n",
    "\n",
    "plt.hist(X, 50, density = True)\n",
    "plt.title('Histogram X')\n",
    "plt.show()\n",
    "\n",
    "plt.hist(Y, 50, density = True)\n",
    "plt.title('Histogram Y')\n",
    "plt.show()\n",
    "\n",
    "plt.hist(Z, 50, density = True)\n",
    "plt.title('Histogram Z')\n",
    "plt.show()"
   ]
  },
  {
   "cell_type": "markdown",
   "metadata": {},
   "source": [
    "This is the Irwin Hall distribution."
   ]
  },
  {
   "cell_type": "code",
   "execution_count": null,
   "metadata": {
    "scrolled": true
   },
   "outputs": [],
   "source": [
    "K = 10\n",
    "Z = [sum(random.uniform(0, 1) for k in range(K)) for _ in range(N)]\n",
    "\n",
    "xx = np.linspace(1, K-1, 100)\n",
    "plt.hist(Z, 50, density = True)\n",
    "plt.plot(xx, normal(xx, mu = K/2, sigma = np.sqrt(K/12)))\n",
    "plt.title('Irwin hall distribution')\n",
    "plt.show()"
   ]
  },
  {
   "cell_type": "markdown",
   "metadata": {},
   "source": [
    "### Arbitrary random distribution\n",
    "\n",
    "Let $\\rho(x) = 3x^2$ be a probability density function defined on $[0, 1]$. Then the range is $[0, 3]$."
   ]
  },
  {
   "cell_type": "code",
   "execution_count": null,
   "metadata": {},
   "outputs": [],
   "source": [
    "X = [random.uniform(0, 1) for _ in range(N)]\n",
    "T = [random.uniform(0, 3) for _ in range(N)] # plot over the domain.\n",
    "\n",
    "I = list(filter(lambda i: 3*X[i]**2 > T[i], range(N)))\n",
    "Y = [X[i] for i in I]"
   ]
  },
  {
   "cell_type": "code",
   "execution_count": null,
   "metadata": {
    "scrolled": true
   },
   "outputs": [],
   "source": [
    "plt.hist(Y, 50, density = True)\n",
    "\n",
    "xx = np.linspace(0, 1)\n",
    "plt.plot(xx, 3*xx**2)\n",
    "plt.show()"
   ]
  },
  {
   "cell_type": "markdown",
   "metadata": {},
   "source": [
    "Let $\\rho(x) = \\sin(x)/2$ be a probability density function defined on $[0, \\pi]$, then the range is $[0, 1]$."
   ]
  },
  {
   "cell_type": "code",
   "execution_count": null,
   "metadata": {},
   "outputs": [],
   "source": [
    "X = [random.uniform(0, np.pi) for _ in range(N)]\n",
    "T = [random.uniform(0, 1) for _ in range(N)]\n",
    "\n",
    "I = list(filter(lambda i:np.sin(X[i])/2 > T[i], range(N)))\n",
    "Y = [X[i] for i in I]"
   ]
  },
  {
   "cell_type": "code",
   "execution_count": null,
   "metadata": {},
   "outputs": [],
   "source": [
    "plt.hist(Y, 50, density = True)\n",
    "\n",
    "xx = np.linspace(0, np.pi, 100)\n",
    "plt.plot(xx, np.sin(xx)/2)\n",
    "plt.show()"
   ]
  },
  {
   "cell_type": "markdown",
   "metadata": {},
   "source": [
    "What happens when the test scaling factor is lowered? What happens when it is raised? Why doesn't lowering the scaling factor impact the qualitative aspects of the histogram? Why does raising it lead to a sparser set?"
   ]
  },
  {
   "cell_type": "markdown",
   "metadata": {},
   "source": [
    "### Saw function"
   ]
  },
  {
   "cell_type": "markdown",
   "metadata": {},
   "source": [
    "Let $\\rho(x) = \\begin{cases}\n",
    "x&&x\\in[0,1)\\\\\n",
    "x - 1&&x\\in[1,2)\n",
    "\\end{cases}$, then the range is $[0, 1]$."
   ]
  },
  {
   "cell_type": "code",
   "execution_count": null,
   "metadata": {},
   "outputs": [],
   "source": [
    "X = [random.uniform(0, 2) for _ in range(N)]\n",
    "T = [random.uniform(0, 1) for _ in range(N)]\n",
    "\n",
    "def test(x, y):\n",
    "    \n",
    "    if 0 <= x < 1:\n",
    "        return x > y\n",
    "    else:\n",
    "        return x - 1 > y\n",
    "\n",
    "I = list(filter(lambda i: test(X[i], T[i]), range(N)))\n",
    "Y = [X[i] for i in I]"
   ]
  },
  {
   "cell_type": "code",
   "execution_count": null,
   "metadata": {},
   "outputs": [],
   "source": [
    "plt.hist(Y, 50, density = True)\n",
    "\n",
    "def saw(x):\n",
    "    if isinstance(x, np.ndarray):\n",
    "        return np.array([saw(_x) for _x in x])\n",
    "    \n",
    "    if 0 <= x < 1:\n",
    "        return x\n",
    "    else:\n",
    "        return x - 1\n",
    "    pass\n",
    "\n",
    "xx = np.linspace(0, 2)\n",
    "plt.plot(xx, saw(xx))\n",
    "plt.show()"
   ]
  },
  {
   "cell_type": "markdown",
   "metadata": {},
   "source": [
    "### Law of large numbers\n",
    "\n",
    "Effect of adding a trial to the expectation (coin flip)"
   ]
  },
  {
   "cell_type": "code",
   "execution_count": null,
   "metadata": {},
   "outputs": [],
   "source": [
    "X = [None for _ in range(N)]\n",
    "E = [None for _ in range(N)]\n",
    "\n",
    "X[0] = random.choice([-1, 1])\n",
    "E[0] = X[0]\n",
    "\n",
    "for i in range(1, N):\n",
    "    X[i] = random.choice([-1, 1])\n",
    "    E[i] = (E[i-1]*i + X[i])/(i+1)\n",
    "    pass\n",
    "\n",
    "plt.plot(E)\n",
    "plt.axhline(0)\n",
    "plt.show()"
   ]
  },
  {
   "cell_type": "markdown",
   "metadata": {},
   "source": [
    "Implementing a sampling function."
   ]
  }
 ],
 "metadata": {
  "kernelspec": {
   "display_name": "Python 3",
   "language": "python",
   "name": "python3"
  },
  "language_info": {
   "codemirror_mode": {
    "name": "ipython",
    "version": 3
   },
   "file_extension": ".py",
   "mimetype": "text/x-python",
   "name": "python",
   "nbconvert_exporter": "python",
   "pygments_lexer": "ipython3",
   "version": "3.6.6"
  }
 },
 "nbformat": 4,
 "nbformat_minor": 2
}
