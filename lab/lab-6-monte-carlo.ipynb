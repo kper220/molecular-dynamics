{
 "cells": [
  {
   "cell_type": "markdown",
   "metadata": {},
   "source": [
    "# Monte Carlo"
   ]
  },
  {
   "cell_type": "code",
   "execution_count": null,
   "metadata": {},
   "outputs": [],
   "source": [
    "import matplotlib.pyplot as plt\n",
    "import mpl_toolkits.mplot3d\n",
    "import numpy as np"
   ]
  },
  {
   "cell_type": "markdown",
   "metadata": {},
   "source": [
    "Sampling from the uniform distribution $X\\sim U(a, b)$."
   ]
  },
  {
   "cell_type": "code",
   "execution_count": null,
   "metadata": {},
   "outputs": [],
   "source": [
    "np.random.uniform(0, 1)"
   ]
  },
  {
   "cell_type": "markdown",
   "metadata": {},
   "source": [
    "Sampling from an arbitrary function $X\\sim\\rho$, where $\\rho$ is a density defined on the finite, connected domain $(a, b)$."
   ]
  },
  {
   "cell_type": "code",
   "execution_count": null,
   "metadata": {},
   "outputs": [],
   "source": [
    "def sample_arbitrary_function(rho, a, b, \n",
    "                              n = 1, \n",
    "                              phi = lambda x:x,\n",
    "                              sampling = np.random.uniform):\n",
    "    # phi is some operation.\n",
    "    \n",
    "    if n == 1:\n",
    "        rejected = True\n",
    "        while rejected:\n",
    "            \n",
    "            # different sampling methods can be chosen here.\n",
    "            x = sampling(a, b)\n",
    "            \n",
    "            # case of acceptance.\n",
    "            if rho(x) >= np.random.uniform(0, 1):\n",
    "                rejected = False\n",
    "                return phi(x)\n",
    "            \n",
    "            pass\n",
    "        pass\n",
    "    else:\n",
    "        return np.array([sample_arbitrary_function(rho, a, b, n = 1, phi = phi) for _ in range(n)])\n",
    "    pass"
   ]
  },
  {
   "cell_type": "markdown",
   "metadata": {},
   "source": [
    "Demonstration with the sine function, defined on $(0, \\pi)$."
   ]
  },
  {
   "cell_type": "code",
   "execution_count": null,
   "metadata": {},
   "outputs": [],
   "source": [
    "p = lambda x:1/2*np.sin(x)"
   ]
  },
  {
   "cell_type": "code",
   "execution_count": null,
   "metadata": {},
   "outputs": [],
   "source": [
    "sample_arbitrary_function(density, 0, np.pi)"
   ]
  },
  {
   "cell_type": "code",
   "execution_count": null,
   "metadata": {},
   "outputs": [],
   "source": [
    "a, b = 0, np.pi\n",
    "n = 10**4\n",
    "\n",
    "solution = sample_arbitrary_function(p, a, b, n = n)"
   ]
  },
  {
   "cell_type": "code",
   "execution_count": null,
   "metadata": {},
   "outputs": [],
   "source": [
    "plt.hist(solution, 50, density = True)\n",
    "\n",
    "xx = np.linspace(0, np.pi, 100)\n",
    "plt.plot(xx, p(xx))\n",
    "\n",
    "plt.title('Histogram')\n",
    "\n",
    "plt.show()"
   ]
  },
  {
   "cell_type": "markdown",
   "metadata": {},
   "source": [
    "## Monte Carlo approximation\n",
    "\n",
    "Let $x_1, \\cdots, x_n\\sim p$, then the sample mean $\\hat{\\mu}_n = \\dfrac{1}{n}\\sum_{i = 1}^n\\phi(x_i)$ is a basic Monte Carlo estimator of $\\mathbb{E}\\phi(x)$."
   ]
  },
  {
   "cell_type": "markdown",
   "metadata": {},
   "source": [
    "## Importance sampling\n",
    "\n",
    "Let $X\\sim p$. Then the expectation $\\mathbb{E}\\phi(x) = \\int_\\Omega\\phi(x)p(x)dx\\approx\\dfrac{1}{n}\\sum_{i = 1}^n\\phi(x_i)$. Let $q(x)$ be a proposal density such that $q(x) = 0$ if and only if $p(x) = 0$ (absolute continuity). Then $\\mathbb{E}\\phi(x) \\approx\\dfrac{1}{n}\\sum_{i = 1}^n\\phi(y_i)w(y_i)$, where $w(y) = \\dfrac{p(y)}{q(y)}$ and $Y\\sim q$.\n",
    "\n",
    "**Principle**: choose $q(x)$ such that $q(x)\\propto\\vert\\phi(x)\\vert p(x)$, i.e. $q$ places more weight on regions where $\\vert\\phi(x)\\vert p(x)$ is large.\n",
    "\n",
    "However, usually we can't find such an exact $q$. Because if we did, we would have also found the partition function of $\\phi(x)p(x)$, and that would be the desired expectation."
   ]
  },
  {
   "cell_type": "markdown",
   "metadata": {},
   "source": [
    "### Demonstration\n",
    "\n",
    "From the density $p(x) = \\dfrac{1}{2}\\sin(x)$ we sample $X$. Let $\\phi(x) = x^2$. We first find the expectation $\\mathbb{E}\\phi(x)$ analytically, and yield $\\dfrac{1}{2}(\\pi^2-4)$. Next, we sample the approximation directly."
   ]
  },
  {
   "cell_type": "code",
   "execution_count": null,
   "metadata": {},
   "outputs": [],
   "source": [
    "theoretical_expectation = 1/2*(np.pi**2 - 4)\n",
    "print(theoretical_expectation)"
   ]
  },
  {
   "cell_type": "code",
   "execution_count": null,
   "metadata": {},
   "outputs": [],
   "source": [
    "phi = lambda x:np.power(x, 2)\n",
    "\n",
    "direct_sample = sample_arbitrary_function(p, a, b, n = n, phi = phi)\n",
    "plt.hist(direct_sample, 50, density = True)\n",
    "plt.show()\n",
    "\n",
    "direct_sample_mean = np.average(direct_sample)\n",
    "\n",
    "print('Sample from direct average: {}'.format(direct_sample_mean))"
   ]
  },
  {
   "cell_type": "markdown",
   "metadata": {},
   "source": [
    "Let $q(x) \\propto \\vert\\phi(x)\\vert p(x) = \\dfrac{x^2}{2}\\sin(x)$ be a density function, then $q =\\dfrac{\\sin(x)}{2Z}$, where the partition function $Z = \\dfrac{\\pi^2 - 4}{2}$, is a legal density function. We can varify absolute continuity."
   ]
  },
  {
   "cell_type": "code",
   "execution_count": null,
   "metadata": {},
   "outputs": [],
   "source": [
    "q = lambda x:np.power(x, 2)/(np.power(np.pi, 2) - 4)*np.sin(x)\n",
    "\n",
    "new_sampling = lambda a, b:sample_arbitrary_function(q, a, b)\n",
    "sample = sample_arbitrary_function(q, a, b, n = n, sampling = new_sampling)\n",
    "\n",
    "plt.hist(sample, 50, density = True)\n",
    "\n",
    "xx = np.linspace(0, np.pi)\n",
    "plt.plot(xx, q(xx))\n",
    "\n",
    "plt.title('Map of proposal density function')\n",
    "plt.show()"
   ]
  },
  {
   "cell_type": "markdown",
   "metadata": {},
   "source": [
    "Recall that we defined $q(x) = Z^{-1}\\phi(x)p(x)$. Therefore, $\\mathbb{E}\\phi(x) = \\dfrac{1}{n}\\sum_{i = 1}^n\\phi(x_i)w(x_i) = \\dfrac{\\pi^2 - 4}{2}$ is trivially obtained. In this case, our sampling does not influence the outcome of the result, since $\\phi w$ is a constant function."
   ]
  },
  {
   "cell_type": "code",
   "execution_count": null,
   "metadata": {},
   "outputs": [],
   "source": []
  }
 ],
 "metadata": {
  "kernelspec": {
   "display_name": "Python 3",
   "language": "python",
   "name": "python3"
  },
  "language_info": {
   "codemirror_mode": {
    "name": "ipython",
    "version": 3
   },
   "file_extension": ".py",
   "mimetype": "text/x-python",
   "name": "python",
   "nbconvert_exporter": "python",
   "pygments_lexer": "ipython3",
   "version": "3.6.6"
  }
 },
 "nbformat": 4,
 "nbformat_minor": 2
}
