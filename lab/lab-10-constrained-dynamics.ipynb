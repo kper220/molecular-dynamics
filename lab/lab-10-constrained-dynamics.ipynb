{
 "cells": [
  {
   "cell_type": "markdown",
   "metadata": {},
   "source": [
    "# Constrained Dynamics\n",
    "\n",
    "> A *constraint* is a modification of a dynamical system to maintain the consistency of a given function of coordinates. A constraint is *holonomic* if it can be described only in terms of position and time."
   ]
  },
  {
   "cell_type": "code",
   "execution_count": null,
   "metadata": {},
   "outputs": [],
   "source": [
    "import matplotlib.pyplot as plt\n",
    "from mpl_toolkits import mplot3d\n",
    "import numpy as np"
   ]
  },
  {
   "cell_type": "markdown",
   "metadata": {},
   "source": [
    "## Vibration\n",
    "\n",
    "The Hamiltonian\n",
    "$$H = p^2/2m + U(q) + \\epsilon^{-1}(q - r_0)^2/2$$\n",
    "has the equations of motion,\n",
    "$$\\begin{split}\n",
    "\\dot{q} &= p/m\\\\\n",
    "\\dot{p} &= -\\nabla U(q) - \\nabla\\phi_\\epsilon(q),\n",
    "\\end{split}$$\n",
    "where $\\phi_\\epsilon(q) = \\epsilon^{-1}(\\vert q\\vert - r_0)^2/2$."
   ]
  },
  {
   "cell_type": "markdown",
   "metadata": {},
   "source": [
    "### Harmonic potential\n",
    "\n",
    "Under a harmonic potential $U(q) = q^2/2$, the corresponding Hamiltonian with unit mass is\n",
    "$$H = p^2/2 + q^2/2 + \\epsilon^{-1}(q - r_0)^2/2.$$"
   ]
  },
  {
   "cell_type": "code",
   "execution_count": null,
   "metadata": {},
   "outputs": [],
   "source": [
    "def hamiltonian(q, p, epsilon, r0):\n",
    "    return p**2/2 + q**2/2 + (q - r0)**2/(2*epsilon)\n",
    "\n",
    "qq = np.linspace(-1, 1, 100)\n",
    "pp = np.linspace(-1, 1, 100)\n",
    "\n",
    "Q, P = np.meshgrid(qq, pp)\n",
    "H = hamiltonian(Q, P, 1, 0)"
   ]
  },
  {
   "cell_type": "code",
   "execution_count": null,
   "metadata": {
    "scrolled": true
   },
   "outputs": [],
   "source": [
    "plt.contourf(Q, P, H)\n",
    "plt.show()"
   ]
  },
  {
   "cell_type": "markdown",
   "metadata": {},
   "source": [
    "The corresponding equations of motion are\n",
    "$$\\begin{split}\n",
    "\\dot{q} &= p\\\\\n",
    "\\dot{p} &= -q - \\epsilon^{-1}(q - r_0)\\end{split}$$"
   ]
  },
  {
   "cell_type": "markdown",
   "metadata": {},
   "source": [
    "### Velocity Verlet\n",
    "\n",
    "Consider a splitting of the equations of motion,\n",
    "$$\\begin{split}\n",
    "\\mathcal{U}_h^Q &= [q + hM^{-1}p, p]\\\\\n",
    "\\mathcal{U}_h^P &= [q, p - h\\nabla U(q)],\n",
    "\\end{split}$$\n",
    "then the velocity verlet can be interpreted as the splitting scheme $[\\![PQP]\\!]$. In the specific case above,\n",
    "$$\\begin{split}\n",
    "\\mathcal{U}_h^Q &= [q + hp, p]\\\\\n",
    "\\mathcal{U}_h^P &= [q, p - h(q + \\epsilon^{-1}(q - r_0))]\n",
    "\\end{split}$$"
   ]
  },
  {
   "cell_type": "code",
   "execution_count": null,
   "metadata": {},
   "outputs": [],
   "source": [
    "def solve(initial_state, tt, epsilon, r0):\n",
    "    n = len(tt)\n",
    "    t_min, t_max = tt[0], tt[n-1]\n",
    "    h = (t_max - t_min) / (n - 1)\n",
    "    \n",
    "    qq = [None for _ in range(n)]\n",
    "    pp = [None for _ in range(n)]\n",
    "    \n",
    "    for i in range(n):\n",
    "        if i == 0:\n",
    "            qq[0] = initial_state[0]\n",
    "            pp[0] = initial_state[1]\n",
    "            pass\n",
    "        else:\n",
    "            q_curr = qq[i-1]\n",
    "            p_curr = pp[i-1]\n",
    "            \n",
    "            _p = p_curr - h/2*(q_curr + (q_curr - r0) / epsilon)\n",
    "            q_new = q_curr + h*_p\n",
    "            p_new = _p - h/2*(q_new + (q_new - r0) / epsilon)\n",
    "            \n",
    "            qq[i], pp[i] = q_new, p_new\n",
    "            pass\n",
    "        pass\n",
    "    return qq, pp"
   ]
  },
  {
   "cell_type": "code",
   "execution_count": null,
   "metadata": {},
   "outputs": [],
   "source": [
    "initial_state = [1, 0]\n",
    "n = 1000\n",
    "tt = np.linspace(0, 10, n)"
   ]
  },
  {
   "cell_type": "markdown",
   "metadata": {},
   "source": [
    "Investigate effects of altering $\\epsilon$ and set $r_0 = 0$."
   ]
  },
  {
   "cell_type": "code",
   "execution_count": null,
   "metadata": {},
   "outputs": [],
   "source": [
    "m = 1000\n",
    "epsilons = np.linspace(0, 1, m)\n",
    "\n",
    "solution = [None for _ in range(m)]\n",
    "for j in range(m):\n",
    "    solution[j] = solve(initial_state, tt, epsilons[j], 0)[0]\n",
    "    pass\n",
    "\n",
    "solution = np.array(solution)\n",
    "T, E = np.meshgrid(tt, epsilons)"
   ]
  },
  {
   "cell_type": "code",
   "execution_count": null,
   "metadata": {},
   "outputs": [],
   "source": [
    "plt.contourf(E, T, solution)\n",
    "plt.xlabel('$\\epsilon$')\n",
    "plt.ylabel('$t$')\n",
    "plt.show()"
   ]
  },
  {
   "cell_type": "markdown",
   "metadata": {},
   "source": [
    "Investigate effects of $r_0$ and setting $\\epsilon = .1$."
   ]
  },
  {
   "cell_type": "code",
   "execution_count": null,
   "metadata": {},
   "outputs": [],
   "source": [
    "m = 1000\n",
    "rr = np.linspace(-1, 1, m)\n",
    "\n",
    "solution = [None for _ in range(m)]\n",
    "for j in range(m):\n",
    "    solution[j] = solve(initial_state, tt, .1, rr[j])[0]\n",
    "    pass\n",
    "\n",
    "solution = np.array(solution)\n",
    "T, R = np.meshgrid(tt, rr)"
   ]
  },
  {
   "cell_type": "code",
   "execution_count": null,
   "metadata": {},
   "outputs": [],
   "source": [
    "plt.contourf(R, T, solution)\n",
    "plt.xlabel('$r$')\n",
    "plt.ylabel('$t$')\n",
    "plt.show()"
   ]
  },
  {
   "cell_type": "markdown",
   "metadata": {},
   "source": [
    "Setting $q = 1$, $p = 0$ and varying $\\epsilon$ and $r_0$."
   ]
  },
  {
   "cell_type": "code",
   "execution_count": null,
   "metadata": {},
   "outputs": [],
   "source": [
    "epsilons = np.linspace(.1, 1, 100)\n",
    "rr = np.linspace(-1, 1, 100)\n",
    "\n",
    "E, R = np.meshgrid(epsilons, rr)\n",
    "H = hamiltonian(1, 0, E, R)"
   ]
  },
  {
   "cell_type": "code",
   "execution_count": null,
   "metadata": {},
   "outputs": [],
   "source": [
    "plt.contourf(E, R, H)\n",
    "plt.xlabel('$\\epsilon$')\n",
    "plt.ylabel('$r_0$')\n",
    "plt.show()"
   ]
  },
  {
   "cell_type": "markdown",
   "metadata": {},
   "source": [
    "### Euler Lagrange equations\n",
    "\n",
    "Let the constraint in question be $g(q) = q^2 - r_0^2$, then the constrained equations of motion are\n",
    "$$\\begin{split}\n",
    "\\dot{q} &= p,\\\\\n",
    "\\dot{p} &= -q - \\lambda g'(q),\\\\\n",
    "0 &= g(q).\n",
    "\\end{split}$$\n",
    "Taking a time derivative, $\\dfrac{dg}{dt}(q) = 2qp = 0$ is our hidden constraint. Thus, the set of points $(q, p)$ satisfying the constraints,\n",
    "$$\\begin{split}\n",
    "q^2 - r_0^2 &= 0\\\\\n",
    "qp &= 0,\n",
    "\\end{split}$$\n",
    "is our co-tangent bundle $T^*\\mathcal{M}$. When $r_0\\neq 0$, our solutions are $q^2 = r_0^2$ and $p = 0$.\n",
    "\n",
    "Consider a constrained symplectic method,\n",
    "$$\\begin{split}\n",
    "q_{n+1} &= q_n + hp_{n+1}\\\\\n",
    "p_{n+1} &= p_n + hq_n - hq_np_n\\lambda_n\\\\\n",
    "0 &= g(q_{n+1})\n",
    "\\end{split}$$\n",
    "We want the equation\n",
    "$$g(Q_n - G_n\\Lambda) = 0,$$\n",
    "where $Q_n = q_n + hp_n + h^2q_n$, $G_n = 2q_np_n$ and $\\Lambda = h^2\\lambda$, satisfied. Therefore\n",
    "$$(Q_n - G_n\\Lambda)^2 = r_0^2,$$\n",
    "and $Q_n - G_n\\Lambda = \\mathrm{sgn}[Q_n - G_n\\Lambda]\\mathrm{sgn}[r_0]r_0$. Solving for $\\lambda_n$ yields\n",
    "$$\\lambda_n = \\dfrac{q_n + hp_n + hq_n^2 - \\mathrm{sgn}[r_0(Q_n - G_n\\Lambda)]r_0}{2h^2q_np_n}.$$"
   ]
  },
  {
   "cell_type": "code",
   "execution_count": null,
   "metadata": {},
   "outputs": [],
   "source": []
  }
 ],
 "metadata": {
  "kernelspec": {
   "display_name": "Python 3",
   "language": "python",
   "name": "python3"
  },
  "language_info": {
   "codemirror_mode": {
    "name": "ipython",
    "version": 3
   },
   "file_extension": ".py",
   "mimetype": "text/x-python",
   "name": "python",
   "nbconvert_exporter": "python",
   "pygments_lexer": "ipython3",
   "version": "3.6.6"
  }
 },
 "nbformat": 4,
 "nbformat_minor": 2
}
