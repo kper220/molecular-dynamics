{
 "cells": [
  {
   "cell_type": "markdown",
   "metadata": {},
   "source": [
    "# Numerical Approximation Methods"
   ]
  },
  {
   "cell_type": "markdown",
   "metadata": {},
   "source": [
    "The reason I'm doing this with Python is because I want to become more comfortable with the construction of many numerical approximation methods.\n",
    "\n",
    "## Contents\n",
    "1. [Initial Value Problems of the First Order](#Initial-Value-Problems-of-the-First-Order)\n",
    "    1. [First Order Euler Method](#First-Order-Euler-Method)\n",
    "    1. [Second Order Euler Method](#Second-Order-Euler-Method)\n",
    "    1. [Runge-Kutta Method](#Runge-Kutta-Method)\n",
    "    1. [Method Constructors](#Method-Constructors)\n",
    "1. [Second Order ODE](#Second-Order-ODE)\n",
    "    1. [Second Order Method Constructors](#Second-Order-Method-Constructors)\n",
    "    1. [Gravity](#Gravity)"
   ]
  },
  {
   "cell_type": "code",
   "execution_count": null,
   "metadata": {},
   "outputs": [],
   "source": [
    "import matplotlib.pyplot as plt\n",
    "import matplotlib.cm as cm\n",
    "import numpy as np"
   ]
  },
  {
   "cell_type": "markdown",
   "metadata": {},
   "source": [
    "## Initial Value Problems of the First Order\n",
    "We will compare the accuracy of numerical approximation methods with varying timesteps."
   ]
  },
  {
   "cell_type": "code",
   "execution_count": null,
   "metadata": {},
   "outputs": [],
   "source": [
    "# create initial conditions\n",
    "df = lambda t, x: - np.power(x, 2)\n",
    "initial_value = 1\n",
    "\n",
    "# create resolution space\n",
    "nn = [i for i in range(2, 10)]\n",
    "ntt = [np.linspace(0, 1, n) for n in nn]\n",
    "nss = [[None for _ in tt] for tt in ntt]\n",
    "\n",
    "# create different colors for each resolution\n",
    "ncolor = cm.rainbow(np.linspace(0, 1, len(nn)))"
   ]
  },
  {
   "cell_type": "markdown",
   "metadata": {},
   "source": [
    "### First Order Euler Method\n",
    "Consider the differential equation $\\dot{x(t)} = f(t, x(t))$. The first-order Euler's method with timestep $h$ is $x' = x + hf(t, x)$, where $x'$ is the approximated value of $x$ at the incremented time $t + h$.\n",
    "\n",
    "We consider the autonomous differential equation $\\dot{x} = -x^2$, with initial condition $x(0) = 1$. Therefore, the function in question is $f(t, x) = -x^2$."
   ]
  },
  {
   "cell_type": "code",
   "execution_count": null,
   "metadata": {},
   "outputs": [],
   "source": [
    "# iterate over different resolutions (using the first order Euler method).\n",
    "for i, tt in enumerate(ntt):\n",
    "    dt = (tt[-1] - tt[0]) / (len(tt) - 1)\n",
    "    \n",
    "    for j, t in enumerate(tt):\n",
    "        if j == 0:\n",
    "            nss[i][j] = initial_value\n",
    "            pass\n",
    "        else:\n",
    "            # application of first-order euler method.\n",
    "            nss[i][j] = nss[i][j-1] + df(t, nss[i][j-1])*dt\n",
    "            pass\n",
    "        pass\n",
    "    plt.plot(tt, nss[i], label = '{}'.format(nn[i]), color = ncolor[i])\n",
    "    pass\n",
    "plt.ylim(0, 1.1)\n",
    "plt.legend()\n",
    "plt.show()"
   ]
  },
  {
   "cell_type": "markdown",
   "metadata": {},
   "source": [
    "### Second Order Euler Method\n",
    "\n",
    "Using Taylor's expansion, a second-order Euler approximation is $x' = x + h\\dot{x} + \\dfrac{h^2}{2}\\ddot{x}$.\n",
    "\n",
    "Since $\\dot{x} = -x^2$, then $\\ddot{x} = \\dfrac{d}{dt}(-x^2) = -2x\\dot{x} = -2x(-x^2) = 2x^3$. Let $g(t, x) = 2x^3$ be our second-order Euler function, then our approximation reduces to $x' = x - hx^2 + h^2x^3$."
   ]
  },
  {
   "cell_type": "code",
   "execution_count": null,
   "metadata": {},
   "outputs": [],
   "source": [
    "# define second-order term\n",
    "ddf = lambda t, x:2*np.power(x, 3)\n",
    "\n",
    "# iterate over different resolutions (using the second order Euler method).\n",
    "for i, tt in enumerate(ntt):\n",
    "    dt = (tt[-1] - tt[0]) / (len(tt) - 1)\n",
    "    \n",
    "    for j, t in enumerate(tt):\n",
    "        if j == 0:\n",
    "            nss[i][j] = initial_value\n",
    "            pass\n",
    "        else:\n",
    "            # application of second-order euler method.\n",
    "            nss[i][j] = nss[i][j-1] + df(t, nss[i][j-1])*dt + np.power(dt, 2)/2*ddf(t, nss[i][j-1]*dt)\n",
    "            pass\n",
    "        pass\n",
    "    plt.plot(tt, nss[i], label = '{}'.format(nn[i]), color = ncolor[i])\n",
    "    pass\n",
    "plt.ylim(0, 1.1)\n",
    "plt.legend()\n",
    "plt.show()"
   ]
  },
  {
   "cell_type": "markdown",
   "metadata": {},
   "source": [
    "### Runge-Kutta Method\n",
    "The RK method states that $y' = y + \\dfrac{1}{6}(k_1 + 2k_2 + 2k_3 + k_4)$, where $k_1 = hf(t_n, y_n)$, $k_2 = hf\\bigg(t_n + \\dfrac{h}{2}, y_n + \\dfrac{k_1}{2}\\bigg)$, $k_3 = hf\\bigg(t_n + \\dfrac{h}{2}, y_n + \\dfrac{k_2}{2}\\bigg)$, and $k_4 = hf(t_n + h, y_n + k_3)$.\n",
    "\n",
    "### Method Constructors\n",
    "We note that in all three approximation procedures, the method is applied in only one part of the algorithm. Hence, we can isolate the methods by defining their *constructors*, which take in all relevant functions and the timestep, and return *functions*, which take in only the current time and point in space. For our experiment, we compute all our derivatives by hand.\n",
    "\n",
    "The purpose of writing constructors is to make as few iterated checks on the system as possible. For example, we don't need an iterated function which always checks whether a given value is an integer."
   ]
  },
  {
   "cell_type": "code",
   "execution_count": null,
   "metadata": {},
   "outputs": [],
   "source": [
    "from scipy.special import gamma"
   ]
  },
  {
   "cell_type": "code",
   "execution_count": null,
   "metadata": {},
   "outputs": [],
   "source": [
    "def euler_method_constructor_first_order(ff):\n",
    "    # computes using euler method of order equal to length of function list.\n",
    "    # though we have higher orders in here, this constructor will not be used beyond this section.\n",
    "    \n",
    "    if not isinstance(ff, list):\n",
    "        raise TypeError('ff must be list of functions.')\n",
    "        pass\n",
    "    \n",
    "    # find order of ff.\n",
    "    order = len(ff)\n",
    "    \n",
    "    # return a function which works for a given stepsize.\n",
    "    def euler_method_stepsize_first_order(h):\n",
    "        \n",
    "        # return a function which, at a stepsize, returns next value.\n",
    "        def euler_method_function_first_order(t, x):\n",
    "            return x + sum(ff[i](t, x)*np.power(h, i + 1)/gamma(i + 1) for i in range(order))\n",
    "        return euler_method_function_first_order\n",
    "    return euler_method_stepsize_first_order\n",
    "\n",
    "def runge_kutta_constructor_first_order(f):\n",
    "    # constructs a function according to the rk4 algorithm.\n",
    "    \n",
    "    def runge_kutta_stepsize_first_order(h):\n",
    "        def runge_kutta_function_first_order(t, x):\n",
    "            k1 = h*f(t, x)\n",
    "            k2 = h*f(t + h/2, x + k1/2)\n",
    "            k3 = h*f(t + h/2, x + k2/2)\n",
    "            k4 = h*f(t + h, x + k3)\n",
    "            return x + 1/6*(k1 + 2*k2 + 2*k3 + k4)\n",
    "        return runge_kutta_function_first_order\n",
    "    return runge_kutta_stepsize_first_order"
   ]
  },
  {
   "cell_type": "markdown",
   "metadata": {},
   "source": [
    "Next, we define a `solve` function, which takes in a constructor, an initial value `x_init`, a linear time array `tt`."
   ]
  },
  {
   "cell_type": "code",
   "execution_count": null,
   "metadata": {},
   "outputs": [],
   "source": [
    "def solve_first_order(constructor, x_init, tt):\n",
    "    \n",
    "    # extract data from time.\n",
    "    n = len(tt)\n",
    "    t_min, t_max = tt[0], tt[n-1]\n",
    "    h = (t_max - t_min) / (n - 1)\n",
    "    \n",
    "    # construct function with stepsize h.\n",
    "    d_function = constructor(h)\n",
    "    \n",
    "    # create solution sequence.\n",
    "    solution = [None for _ in range(n)]\n",
    "    \n",
    "    # build solutions.\n",
    "    for i, t in enumerate(tt):\n",
    "        if i == 0:\n",
    "            solution[0] = x_init\n",
    "            pass\n",
    "        else:\n",
    "            solution[i] = d_function(t, solution[i - 1])\n",
    "            pass\n",
    "        pass\n",
    "    return solution"
   ]
  },
  {
   "cell_type": "markdown",
   "metadata": {},
   "source": [
    "A comparison of the first-order, second-order Euler methods, and the RK4 method."
   ]
  },
  {
   "cell_type": "code",
   "execution_count": null,
   "metadata": {},
   "outputs": [],
   "source": [
    "tt = np.linspace(0, 1, 10)\n",
    "x_init = 2\n",
    "\n",
    "euler_1 = solve_first_order(\n",
    "    euler_method_constructor_first_order([lambda t, x:-np.power(x, 2)]), x_init, tt)\n",
    "euler_2 = solve_first_order(\n",
    "    euler_method_constructor_first_order([lambda t, x:-np.power(x, 2), lambda t, x:2*np.power(x, 3)]), x_init, tt)\n",
    "\n",
    "rk = solve_first_order(\n",
    "    runge_kutta_constructor_first_order(lambda t, x:-np.power(x, 2)), x_init, tt)\n",
    "exact = x_init/(1 + x_init*tt)\n",
    "\n",
    "for i, sol in enumerate(zip([euler_1, euler_2, rk, exact],\n",
    "                            ['E1', 'E2', 'RK', 'exact'])):\n",
    "    if i == 3:\n",
    "        plt.scatter(tt, sol[0], label = '{}'.format(sol[1]), marker = 'x')\n",
    "        pass\n",
    "    elif i == 4:\n",
    "        plt.scatter(tt, sol[0], label = '{}'.format(sol[1]))\n",
    "    else:\n",
    "        plt.plot(tt, sol[0], label = '{}'.format(sol[1]))\n",
    "        pass\n",
    "    pass\n",
    "plt.title('Approximation Method Comparison')\n",
    "plt.legend()\n",
    "plt.show()"
   ]
  },
  {
   "cell_type": "markdown",
   "metadata": {},
   "source": [
    "## Second Order ODE\n",
    "\n",
    "We consider the nonlinear, second-order ODE: $\\ddot{x} = -x^2$ with initial conditions $x_0 = 1$ and $\\dot{x}_0 = 1$. The solution to this ODE is nasty, and involves some ugly Weierstrass elliptic function, which we will not inspect.\n",
    "\n",
    "We can convert the above to a system of equations. Let $\\dot{x} = y$, then $\\dot{y} = \\ddot{x} = -x^2$. Furthermore, $y_0 = 1$."
   ]
  },
  {
   "cell_type": "code",
   "execution_count": null,
   "metadata": {},
   "outputs": [],
   "source": [
    "# basic algorithm.\n",
    "\n",
    "# set initial conditions.\n",
    "x_init, y_init = 1, 1\n",
    "\n",
    "# construct time set.\n",
    "n = 10000\n",
    "t_min = 0\n",
    "t_max = 4\n",
    "dt = (t_max - t_min) / (n - 1)\n",
    "tt = np.linspace(t_min, t_max, n)\n",
    "\n",
    "# construct solution sets.\n",
    "xx = [None for _ in range(n)]\n",
    "yy = [None for _ in range(n)]\n",
    "\n",
    "# solve for solutions.\n",
    "for i in range(n):\n",
    "    if i == 0:\n",
    "        xx[0] = x_init\n",
    "        yy[0] = y_init\n",
    "        pass\n",
    "    else:\n",
    "        xx[i] = xx[i - 1] + yy[i - 1]*dt\n",
    "        yy[i] = yy[i - 1] - xx[i - 1]**2*dt\n",
    "        pass\n",
    "    pass\n",
    "\n",
    "plt.plot(tt, xx)\n",
    "plt.plot(tt, yy)\n",
    "plt.title('$\\ddot{x} = -x^2$')\n",
    "plt.show()"
   ]
  },
  {
   "cell_type": "markdown",
   "metadata": {},
   "source": [
    "Similarly, the system could be solved using higher-order methods as well as Runge-Kutta."
   ]
  },
  {
   "cell_type": "markdown",
   "metadata": {},
   "source": [
    "### Second Order Method Constructors\n",
    "\n",
    "We write second-order method constructors for both the RK and Euler's method. This time, we have two functions of two variables for our first-order euler method."
   ]
  },
  {
   "cell_type": "code",
   "execution_count": null,
   "metadata": {},
   "outputs": [],
   "source": [
    "def euler_method_constructor(ff):\n",
    "    # first order euler method.\n",
    "    # ff: two functions of three variables (t, x, y).\n",
    "    fx, fy = ff\n",
    "    \n",
    "    def euler_method_stepsize(h):\n",
    "        \n",
    "        def euler_method_function(t, x, y):\n",
    "            x_ = x + fx(t, x, y)*h\n",
    "            y_ = y + fy(t, x, y)*h\n",
    "            return x_, y_\n",
    "        \n",
    "        return euler_method_function\n",
    "    return euler_method_stepsize\n",
    "\n",
    "def runge_kutta_constructor(ff):\n",
    "    # runge-kutta method for second order system.\n",
    "    # ff: two functions of three variables (t, x, y).\n",
    "    fx, fy = ff\n",
    "    \n",
    "    def runge_kutta_stepsize(h):\n",
    "        \n",
    "        def runge_kutta_function(t, x, y):\n",
    "            kx1 = h*fx(t, x, y)\n",
    "            ky1 = h*fy(t, x, y)\n",
    "            \n",
    "            kx2 = h*fx(t + h/2, x + kx1/2, y + ky1/2)\n",
    "            ky2 = h*fy(t + h/2, x + kx1/2, y + ky1/2)\n",
    "            \n",
    "            kx3 = h*fx(t + h/2, x + kx2/2, y + ky2/2)\n",
    "            ky3 = h*fy(t + h/2, x + kx2/2, y + ky2/2)\n",
    "            \n",
    "            kx4 = h*fx(t + h, x + kx3, y + ky3)\n",
    "            ky4 = h*fy(t + h, x + kx3, y + ky3)\n",
    "            \n",
    "            x_ = x + 1/6*(kx1 + 2*kx2 + 2*kx3 + kx4)\n",
    "            y_ = y + 1/6*(ky1 + 2*ky2 + 2*ky3 + ky4)\n",
    "            \n",
    "            return x_, y_\n",
    "        return runge_kutta_function\n",
    "    return runge_kutta_stepsize\n",
    "\n",
    "# initial conditions, time set.\n",
    "def solve(constructor, initial_condition, tt):\n",
    "    # extract data from tt.\n",
    "    n = len(tt)\n",
    "    t_min, t_max = tt[0], tt[n-1]\n",
    "    h = (t_max - t_min) / (n - 1)\n",
    "    \n",
    "    # solve for stepsize function.\n",
    "    method_function = constructor(h)\n",
    "    \n",
    "    # create solution sets.\n",
    "    xx = [None for _ in range(n)]\n",
    "    yy = [None for _ in range(n)]\n",
    "    \n",
    "    # solve.\n",
    "    for i, t in enumerate(tt):\n",
    "        if i == 0:\n",
    "            xx[0], yy[0] = initial_condition\n",
    "            pass\n",
    "        else:\n",
    "            xx[i], yy[i] = method_function(t, xx[i-1], yy[i-1])\n",
    "            pass\n",
    "        pass\n",
    "    return xx, yy"
   ]
  },
  {
   "cell_type": "markdown",
   "metadata": {},
   "source": [
    "Solving the previous system using the constructor."
   ]
  },
  {
   "cell_type": "code",
   "execution_count": null,
   "metadata": {
    "scrolled": true
   },
   "outputs": [],
   "source": [
    "constructor = euler_method_constructor([lambda t, x, y: y, lambda t, x, y: -x**2])\n",
    "initial_condition = [1, 1]\n",
    "tt = np.linspace(0, 4, 10000)\n",
    "\n",
    "xx, yy = solve(constructor, initial_condition, tt)\n",
    "plt.plot(tt, xx)\n",
    "plt.plot(tt, yy)\n",
    "plt.title('$\\ddot{x} = -x^2$')\n",
    "plt.show()"
   ]
  },
  {
   "cell_type": "markdown",
   "metadata": {},
   "source": [
    "We see that the result is the same."
   ]
  },
  {
   "cell_type": "code",
   "execution_count": null,
   "metadata": {},
   "outputs": [],
   "source": [
    "from mpl_toolkits import mplot3d"
   ]
  },
  {
   "cell_type": "markdown",
   "metadata": {},
   "source": [
    "### Gravity\n",
    "\n",
    "A test particle with mass $\\mu$ is subject to the gravitational attraction of a (fixed) source particle with mass $M$ centered at the origin. The governing law for the motion of this particle is $\\mu\\ddot{\\mathbf{r}} = -\\dfrac{G\\mu M}{r^2}\\hat{\\mathbf{r}}$, where $\\hat{\\mathbf{r}} = \\dfrac{\\mathbf{r}}{r}$. We convert this into a system. Let $\\mathbf{s} = \\dot{\\mathbf{r}}$, then $\\dot{\\mathbf{s}} = -\\dfrac{G\\mu M}{r^2}\\hat{\\mathbf{r}}$. For simplicity, we solve the system $\\dot{\\mathbf{r}} = \\mathbf{s} = \\mathbf{f}(t, \\mathbf{r}, \\mathbf{s})$, $\\dot{\\mathbf{s}} = -\\dfrac{2\\mathbf{r}}{r^{3/2}} = \\mathbf{g}(t, \\mathbf{r}, \\mathbf{s})$ (The $2$ in $\\mathbf{g}$ is just there to make the system more interesting)."
   ]
  },
  {
   "cell_type": "code",
   "execution_count": null,
   "metadata": {},
   "outputs": [],
   "source": [
    "# define relevant 'gravity' functions.\n",
    "\n",
    "def f(t, r, s):\n",
    "    # t is a scalar.\n",
    "    # r, s are numpy arrays of length 2.\n",
    "    return s\n",
    "\n",
    "def g(t, r, s):\n",
    "    r_norm = np.sqrt(r.dot(r))\n",
    "    return -2/np.power(r_norm, 3/2) * r"
   ]
  },
  {
   "cell_type": "markdown",
   "metadata": {},
   "source": [
    "We model a very simple system, $\\mathbf{r}_0 = (1, 0)$ and $\\mathbf{s}_0 = (0, 1)$. In this system, we predict that the test particle will move upwards, before the source particle's influence will drag the test particle towards it. In terms of parameters, $r_x$ decreases while $r_y$ increases, but $s_x$ becomes negative while $s_y$ is positive and decreasing. Then, the particle will probably go in some kind of orbit."
   ]
  },
  {
   "cell_type": "markdown",
   "metadata": {},
   "source": [
    "Simulating gravity with Euler's method."
   ]
  },
  {
   "cell_type": "code",
   "execution_count": null,
   "metadata": {},
   "outputs": [],
   "source": [
    "# initial condition.\n",
    "constructor = euler_method_constructor([f, g])\n",
    "initial_condition = [np.array([1, 0]), np.array([0, 1])]\n",
    "tt = np.linspace(0, 100, 1000)\n",
    "\n",
    "# we expect solutions r and s to be vectors.\n",
    "rr, ss = solve(constructor, initial_condition, tt)\n",
    "\n",
    "# extract position coordinates.\n",
    "xx = [r[0] for r in rr]\n",
    "yy = [r[1] for r in rr]"
   ]
  },
  {
   "cell_type": "markdown",
   "metadata": {},
   "source": [
    "Plotting the system in various ways."
   ]
  },
  {
   "cell_type": "code",
   "execution_count": null,
   "metadata": {},
   "outputs": [],
   "source": [
    "plt.plot(tt, xx, label = 'x')\n",
    "plt.plot(tt, yy, label = 'y')\n",
    "plt.legend()\n",
    "plt.title('Particle Coordinate Trajectories')\n",
    "plt.show()"
   ]
  },
  {
   "cell_type": "code",
   "execution_count": null,
   "metadata": {},
   "outputs": [],
   "source": [
    "plt.figure(figsize = (10, 10))\n",
    "plt.plot(xx, yy, '--')\n",
    "plt.scatter(0, 0, label = 'source')\n",
    "plt.title('Particle Trajectory in Space')\n",
    "plt.legend()\n",
    "plt.show()"
   ]
  },
  {
   "cell_type": "code",
   "execution_count": null,
   "metadata": {},
   "outputs": [],
   "source": [
    "fig = plt.figure(figsize = (10, 10))\n",
    "ax = plt.axes(projection='3d')\n",
    "ax.plot3D(xx, yy, tt)\n",
    "ax.view_init(10, 35)\n",
    "plt.title('Particle Trajectory in Time')\n",
    "plt.show()"
   ]
  },
  {
   "cell_type": "markdown",
   "metadata": {},
   "source": [
    "Simulating gravity with Runge-Kutta method. (same conditions)"
   ]
  },
  {
   "cell_type": "code",
   "execution_count": null,
   "metadata": {},
   "outputs": [],
   "source": [
    "# initial condition.\n",
    "constructor = runge_kutta_constructor([f, g])\n",
    "initial_condition = [np.array([1, 0]), np.array([0, 1])]\n",
    "tt = np.linspace(0, 100, 1000)\n",
    "\n",
    "# we expect solutions r and s to be vectors.\n",
    "rr, ss = solve(constructor, initial_condition, tt)\n",
    "\n",
    "# extract position coordinates.\n",
    "xx = [r[0] for r in rr]\n",
    "yy = [r[1] for r in rr]"
   ]
  },
  {
   "cell_type": "code",
   "execution_count": null,
   "metadata": {},
   "outputs": [],
   "source": [
    "plt.plot(tt, xx, label = 'x')\n",
    "plt.plot(tt, yy, label = 'y')\n",
    "plt.legend()\n",
    "plt.title('Particle Coordinate Trajectories')\n",
    "plt.show()"
   ]
  },
  {
   "cell_type": "code",
   "execution_count": null,
   "metadata": {},
   "outputs": [],
   "source": [
    "plt.figure(figsize = (10, 10))\n",
    "plt.plot(xx, yy, '--')\n",
    "plt.scatter(0, 0, label = 'source')\n",
    "plt.title('Particle Trajectory in Space')\n",
    "plt.legend()\n",
    "plt.show()"
   ]
  },
  {
   "cell_type": "code",
   "execution_count": null,
   "metadata": {},
   "outputs": [],
   "source": [
    "fig = plt.figure(figsize = (10, 10))\n",
    "ax = plt.axes(projection='3d')\n",
    "ax.plot3D(xx, yy, tt)\n",
    "ax.view_init(10, 35)\n",
    "plt.title('Particle Trajectory in Time')\n",
    "plt.show()"
   ]
  },
  {
   "cell_type": "markdown",
   "metadata": {},
   "source": [
    "We see that the RK method is more accurate than Euler's method, when the timesteps are the same."
   ]
  },
  {
   "cell_type": "code",
   "execution_count": null,
   "metadata": {},
   "outputs": [],
   "source": []
  }
 ],
 "metadata": {
  "kernelspec": {
   "display_name": "Python 3",
   "language": "python",
   "name": "python3"
  },
  "language_info": {
   "codemirror_mode": {
    "name": "ipython",
    "version": 3
   },
   "file_extension": ".py",
   "mimetype": "text/x-python",
   "name": "python",
   "nbconvert_exporter": "python",
   "pygments_lexer": "ipython3",
   "version": "3.6.6"
  }
 },
 "nbformat": 4,
 "nbformat_minor": 2
}
