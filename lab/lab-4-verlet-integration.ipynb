{
 "cells": [
  {
   "cell_type": "markdown",
   "metadata": {},
   "source": [
    "# Verlet Integration"
   ]
  },
  {
   "cell_type": "code",
   "execution_count": null,
   "metadata": {},
   "outputs": [],
   "source": [
    "import matplotlib.pyplot as plt\n",
    "import numpy as np"
   ]
  },
  {
   "cell_type": "markdown",
   "metadata": {},
   "source": [
    "## Matrix Algebra\n",
    "\n",
    "Warm up with matrix multiplication.\n",
    "\n",
    "### Vector Manipulation\n",
    "\n",
    "Topics: scalar and matrix multiplication, addition, inner products, outer products."
   ]
  },
  {
   "cell_type": "code",
   "execution_count": null,
   "metadata": {},
   "outputs": [],
   "source": [
    "# vectors u, v.\n",
    "u = np.array([[1, 2]]).transpose()\n",
    "v = np.array([[3, 4]]).transpose()"
   ]
  },
  {
   "cell_type": "markdown",
   "metadata": {},
   "source": [
    "Some operations."
   ]
  },
  {
   "cell_type": "code",
   "execution_count": null,
   "metadata": {},
   "outputs": [],
   "source": [
    "print('vector addition: \\n{}'.format(u + v))\n",
    "print('vector transpose:\\n{}'.format(u.transpose()))\n",
    "print('vector inner product:\\n{}'.format(u.transpose().dot(v)))\n",
    "print('vector outer product:\\n{}'.format(u.dot(v.transpose())))"
   ]
  },
  {
   "cell_type": "markdown",
   "metadata": {},
   "source": [
    "### Matrix Manipulation"
   ]
  },
  {
   "cell_type": "code",
   "execution_count": null,
   "metadata": {
    "scrolled": true
   },
   "outputs": [],
   "source": [
    "# two 2x2 matrices.\n",
    "A = np.array([\n",
    "    [1, 2],\n",
    "    [3, 4]\n",
    "])\n",
    "B = np.array([\n",
    "    [2, 0],\n",
    "    [0, 2]\n",
    "])"
   ]
  },
  {
   "cell_type": "markdown",
   "metadata": {},
   "source": [
    "Some operations."
   ]
  },
  {
   "cell_type": "code",
   "execution_count": null,
   "metadata": {},
   "outputs": [],
   "source": [
    "print('inverse matrix:\\n{}'.format(np.linalg.inv(B)))\n",
    "print('scalar matrix multiplication:\\n{}'.format(2*A))\n",
    "print('matrix addition:\\n{}'.format(A + B))\n",
    "print('matrix multiplication:\\n{}'.format(A.dot(B)))\n",
    "print('matrix vector multiplication:\\n{}'.format(A.dot(u)))\n",
    "print('inner product with matrices:\\n{}'.format(u.transpose().dot(B.dot(v))))"
   ]
  },
  {
   "cell_type": "markdown",
   "metadata": {},
   "source": [
    "## Verlet Method"
   ]
  },
  {
   "cell_type": "markdown",
   "metadata": {},
   "source": [
    "We write the solve function, which we'll use to find a solution using the verlet method."
   ]
  },
  {
   "cell_type": "code",
   "execution_count": null,
   "metadata": {},
   "outputs": [],
   "source": [
    "def solve(constructor, initial_condition, tt):\n",
    "    # extract data from tt.\n",
    "    n = len(tt)\n",
    "    t_min, t_max = tt[0], tt[n-1]\n",
    "    h = (t_max - t_min) / (n - 1)\n",
    "    \n",
    "    # method function.\n",
    "    method_function = constructor(h)\n",
    "    \n",
    "    # create vector solution set.\n",
    "    solution = [None for _ in range(n)]\n",
    "    \n",
    "    # compute solutions.\n",
    "    for i, t in enumerate(tt):\n",
    "        if i == 0:\n",
    "            solution[0] = initial_condition\n",
    "            pass\n",
    "        else:\n",
    "            solution[i] = method_function(t, solution[i-1])\n",
    "            pass\n",
    "        pass\n",
    "    return solution"
   ]
  },
  {
   "cell_type": "markdown",
   "metadata": {},
   "source": [
    "The verlet method for an n-body system is a system of three equations,\n",
    "\n",
    "> $\\mathbf{v}_{n+1/2} = \\mathbf{v}_n + h/2\\mathbf{M}^{-1}\\mathbf{F}_n$,\n",
    ">\n",
    "> $\\mathbf{q}_{n+1} = \\mathbf{q}_n + h\\mathbf{v}_{n+1/2}$\n",
    ">\n",
    "> $\\mathbf{v}_{n+1} = \\mathbf{v}_{n+1/2} + h/2\\mathbf{M}^{-1}\\mathbf{F}_{n+1}$\n",
    "\n",
    "Where $\\mathbf{F}_n = \\mathbf{F}(\\mathbf{q}_n) = -\\nabla U(\\mathbf{q}_n)$ is the gradient of the potential. We'll work with a simple 2-body system (variables $\\mathbf{q}_1, \\mathbf{q}_2, \\mathbf{v}_1, \\mathbf{v}_2$), where the potential energy is just the spring potential energy $U = \\dfrac{1}{2}kr^2$, where $r^2 = (\\mathbf{q}_1 - \\mathbf{q}_2)^T\\cdot(\\mathbf{q}_1 - \\mathbf{q}_2)$. Solving for the gradient gives $\\nabla U = k(\\mathbf{q}_1 - \\mathbf{q}_2, \\mathbf{q}_2 - \\mathbf{q}_1)^T$."
   ]
  },
  {
   "cell_type": "code",
   "execution_count": null,
   "metadata": {},
   "outputs": [],
   "source": [
    "# potential function.\n",
    "def grad_potential(q1, q2, k = 1):\n",
    "    # q1 and q2 are vectors.\n",
    "    return k*np.array([q1 - q2, q2 - q1])"
   ]
  },
  {
   "cell_type": "code",
   "execution_count": null,
   "metadata": {},
   "outputs": [],
   "source": [
    "q1 = np.array([[1, 0]]).transpose()\n",
    "q2 = np.array([[0, 2]]).transpose()"
   ]
  },
  {
   "cell_type": "code",
   "execution_count": null,
   "metadata": {
    "scrolled": true
   },
   "outputs": [],
   "source": [
    "grad_potential(q1, q2)"
   ]
  },
  {
   "cell_type": "markdown",
   "metadata": {},
   "source": [
    "Unfortunately, the `dot` function isn't distributing through an array of two vectors properly, so we'll make a temporary `dist` function which does distribute some given matrix."
   ]
  },
  {
   "cell_type": "code",
   "execution_count": null,
   "metadata": {},
   "outputs": [],
   "source": [
    "def dist(m1, m2, two_vectors):\n",
    "    return np.array([\n",
    "        two_vectors[0]*(1/m1),\n",
    "        two_vectors[1]*(1/m2)\n",
    "    ])"
   ]
  },
  {
   "cell_type": "code",
   "execution_count": null,
   "metadata": {},
   "outputs": [],
   "source": [
    "# just set mass vector to 1.\n",
    "# assume system is two-dimensional.\n",
    "\n",
    "def verlet_method_constructor_two_body(m1 = 1, m2 = 1):\n",
    "    # option to specify masses.\n",
    "    # solve for inverse mass matrix.\n",
    "    \n",
    "    def verlet_method_stepsize_two_body(h):\n",
    "        def verlet_method_function_two_body(t, state):\n",
    "            \n",
    "            # extract data.\n",
    "            q, v = state\n",
    "            q1, q2 = q\n",
    "            \n",
    "            # calculate intermediate velocity.\n",
    "            \n",
    "            v_int = v + h/2*dist(m1, m2, -grad_potential(q1, q2))\n",
    "            q_ = q + h*v_int\n",
    "            \n",
    "            # extract successor positions.\n",
    "            q1_, q2_ = q_\n",
    "            \n",
    "            # calculate final velocity.\n",
    "            v_ = v_int + h/2*dist(m1, m2, -grad_potential(q1_, q2_))\n",
    "            \n",
    "            # return new state.\n",
    "            return np.array([q_, v_])\n",
    "        return verlet_method_function_two_body\n",
    "    return verlet_method_stepsize_two_body"
   ]
  },
  {
   "cell_type": "code",
   "execution_count": null,
   "metadata": {},
   "outputs": [],
   "source": [
    "q1_init = np.array([[1, 0]]).transpose()\n",
    "q2_init = np.array([[-1, 0]]).transpose()\n",
    "v1_init = np.array([[0, 1]]).transpose()\n",
    "v2_init = np.array([[0, 1]]).transpose()\n",
    "\n",
    "constructor = verlet_method_constructor_two_body(m1 = 5)\n",
    "initial_condition = np.array([[q1_init, q2_init], [v1_init, v2_init]])\n",
    "tt = np.linspace(0, 10, 100)"
   ]
  },
  {
   "cell_type": "code",
   "execution_count": null,
   "metadata": {
    "scrolled": false
   },
   "outputs": [],
   "source": [
    "solution = solve(constructor, initial_condition, tt)"
   ]
  },
  {
   "cell_type": "code",
   "execution_count": null,
   "metadata": {},
   "outputs": [],
   "source": [
    "qq = [s[0] for s in solution]\n",
    "vv = [s[1] for s in solution]\n",
    "\n",
    "q1 = [q[0] for q in qq]\n",
    "q2 = [q[1] for q in qq]\n",
    "\n",
    "q1x = [q[0] for q in q1]\n",
    "q1y = [q[1] for q in q1]\n",
    "\n",
    "q2x = [q[0] for q in q2]\n",
    "q2y = [q[1] for q in q2]"
   ]
  },
  {
   "cell_type": "code",
   "execution_count": null,
   "metadata": {},
   "outputs": [],
   "source": [
    "plt.figure(figsize = (10, 10))\n",
    "plt.plot(q1x, q1y, label = 'a')\n",
    "plt.plot(q2x, q2y, '--', label = 'b')\n",
    "plt.legend()\n",
    "plt.title('Two Body (Verlet)')\n",
    "plt.show()\n",
    "\n",
    "plt.plot(tt, np.array(q1x) - np.array(q2x))"
   ]
  },
  {
   "cell_type": "code",
   "execution_count": null,
   "metadata": {},
   "outputs": [],
   "source": []
  }
 ],
 "metadata": {
  "kernelspec": {
   "display_name": "Python 3",
   "language": "python",
   "name": "python3"
  },
  "language_info": {
   "codemirror_mode": {
    "name": "ipython",
    "version": 3
   },
   "file_extension": ".py",
   "mimetype": "text/x-python",
   "name": "python",
   "nbconvert_exporter": "python",
   "pygments_lexer": "ipython3",
   "version": "3.6.6"
  }
 },
 "nbformat": 4,
 "nbformat_minor": 2
}
