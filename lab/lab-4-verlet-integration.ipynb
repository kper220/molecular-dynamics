{
 "cells": [
  {
   "cell_type": "markdown",
   "metadata": {},
   "source": [
    "# Verlet Integration"
   ]
  },
  {
   "cell_type": "code",
   "execution_count": null,
   "metadata": {},
   "outputs": [],
   "source": [
    "import matplotlib.pyplot as plt\n",
    "import numpy as np\n",
    "from nam import solve, runge_kutta_constructor"
   ]
  },
  {
   "cell_type": "markdown",
   "metadata": {},
   "source": [
    "### Warmup\n",
    "\n",
    "Simulate 2-body motion with `nam`."
   ]
  },
  {
   "cell_type": "code",
   "execution_count": null,
   "metadata": {},
   "outputs": [],
   "source": [
    "# using only two state vectors, q and p.\n",
    "\n",
    "def q_dot(t, state):\n",
    "    return state[1]\n",
    "\n",
    "def p_dot(t, state):\n",
    "    q = state[0]\n",
    "    qa, qb = q[:2], q[2:]\n",
    "    r = qa - qb\n",
    "    r_norm = np.sqrt(r.dot(r))\n",
    "    pa_ = -2/np.power(r_norm, 3/2)*r\n",
    "    return np.array([pa_, -pa_]).flatten()"
   ]
  },
  {
   "cell_type": "code",
   "execution_count": null,
   "metadata": {},
   "outputs": [],
   "source": [
    "ff = [q_dot, p_dot]\n",
    "constructor = runge_kutta_constructor(ff)\n",
    "initial_condition = [\n",
    "    np.array([1, 0, -1, 0]), # initial q value.\n",
    "    np.array([0, 1, 0, -1]), # initial p value\n",
    "]\n",
    "\n",
    "tt = np.linspace(0, 10, 1000)"
   ]
  },
  {
   "cell_type": "code",
   "execution_count": null,
   "metadata": {},
   "outputs": [],
   "source": [
    "solution = solve(constructor, initial_condition, tt)"
   ]
  },
  {
   "cell_type": "code",
   "execution_count": null,
   "metadata": {},
   "outputs": [],
   "source": [
    "# extract data\n",
    "qq = [s[0] for s in solution]\n",
    "xxa = [q[0] for q in qq]\n",
    "yya = [q[1] for q in qq]\n",
    "xxb = [q[2] for q in qq]\n",
    "yyb = [q[3] for q in qq]"
   ]
  },
  {
   "cell_type": "code",
   "execution_count": null,
   "metadata": {},
   "outputs": [],
   "source": [
    "plt.figure(figsize = (10, 10))\n",
    "plt.plot(xxa, yya, label = 'a')\n",
    "plt.plot(xxb, yyb, label = 'b')\n",
    "plt.title('Two Body Problem')\n",
    "plt.legend()\n",
    "plt.show()"
   ]
  },
  {
   "cell_type": "markdown",
   "metadata": {},
   "source": [
    "## Velocity Verlet"
   ]
  },
  {
   "cell_type": "markdown",
   "metadata": {},
   "source": [
    "The algorithm is \n",
    "\n",
    "> $\\mathbf{x}(t + \\Delta t) = \\mathbf{x}(t) + \\mathbf{v}(t)\\Delta t + \\dfrac{1}{2}\\mathbf{a}(t)\\Delta t^2$\n",
    ">\n",
    "> $\\mathbf{v}(t + \\Delta t) = \\mathbf{v}(t) + \\dfrac{\\mathbf{a}(t) + \\mathbf{a}(t + \\Delta t)}{2}\\Delta t$"
   ]
  }
 ],
 "metadata": {
  "kernelspec": {
   "display_name": "Python 3",
   "language": "python",
   "name": "python3"
  },
  "language_info": {
   "codemirror_mode": {
    "name": "ipython",
    "version": 3
   },
   "file_extension": ".py",
   "mimetype": "text/x-python",
   "name": "python",
   "nbconvert_exporter": "python",
   "pygments_lexer": "ipython3",
   "version": "3.6.6"
  }
 },
 "nbformat": 4,
 "nbformat_minor": 2
}
