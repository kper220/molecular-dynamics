{
 "cells": [
  {
   "cell_type": "markdown",
   "metadata": {},
   "source": [
    "# Analysis\n",
    "\n",
    "This lab is a rewrite of labs 5 and 6.\n",
    "\n",
    "Topics: estimation, error analysis, and convergence of SDEs."
   ]
  },
  {
   "cell_type": "code",
   "execution_count": null,
   "metadata": {},
   "outputs": [],
   "source": [
    "from matplotlib import pyplot as plt\n",
    "import numpy as np\n",
    "from scipy import integrate, stats"
   ]
  },
  {
   "cell_type": "markdown",
   "metadata": {},
   "source": [
    "## Errors and Convergence\n",
    "\n",
    "Let $X$ and $Y$ be random variables. Then, they *converge weakly* if\n",
    "$$\\mathbb{E}[\\phi(X) - \\phi(Y)] = 0,$$\n",
    "where $\\phi$ is some test function, and *converge strongly* with order $\\alpha$ if\n",
    "$$\\mathbb{E}[\\vert X - Y\\vert^\\alpha]^{1/\\alpha} = 0.$$\n",
    "\n",
    "### Weak and strong error\n",
    "We determine weak and strong convergence as follows:\n",
    "$$\\begin{split}\n",
    "\\mathrm{Err}^\\mathrm{weak}_\\phi &= \\mathbb{E}[\\phi(X) - \\phi(Y)]\\approx\\dfrac{1}{N}\\sum_{i = 1}^N[\\phi(X_i) - \\phi(Y_i)]\\\\\n",
    "\\mathrm{Err}^\\mathrm{strong}_\\alpha &= \\mathbb{E}[\\vert X - Y\\vert^\\alpha]^{1/\\alpha}\\approx\\bigg(\\dfrac{1}{N}\\sum_{i = 1}^N\\vert X_i - Y_i\\vert^\\alpha\\bigg)^{1/\\alpha}\n",
    "\\end{split}$$"
   ]
  },
  {
   "cell_type": "markdown",
   "metadata": {},
   "source": [
    "### Dice\n",
    "Let $X$ be a random variable sampled uniformly from numbers $1$ through $6$, and $Y = 7 - X$. We know that they share the same probability distribution, $f(x) = f(y) = 1/6$, and that their expectations are $3.5$. By definition of weak error (with the identity as our test function),\n",
    "$$\\mathbb{E}[X - Y] = \\mathbb{E}[X] - \\mathbb{E}[Y] = 3.5 - 3.5 = 0$$\n",
    "we see that the two random variables converge weakly.\n",
    "\n",
    "In the case of strong convergence ($\\alpha = 1$),\n",
    "$$\\begin{split}\n",
    "\\mathbb{E}[\\vert X - Y\\vert] &= \\mathbb{E}[\\vert 2X - 7\\vert]\\\\\n",
    "&= \\dfrac{1}{6}\\sum_{x = 1}^6\\vert 2x - 7\\vert\\\\\n",
    "&= \\dfrac{1}{6}(5 + 3 + 1 + 1 + 3 + 5)\\\\\n",
    "&= 3\\neq 0,\n",
    "\\end{split}\n",
    "$$\n",
    "thus conditions for strong convergence is not satisfied."
   ]
  },
  {
   "cell_type": "code",
   "execution_count": null,
   "metadata": {},
   "outputs": [],
   "source": [
    "sample_dice = lambda:np.random.choice(range(1, 7))"
   ]
  },
  {
   "cell_type": "code",
   "execution_count": null,
   "metadata": {},
   "outputs": [],
   "source": [
    "n = 10**4\n",
    "x_sample = np.array([sample_dice() for _ in range(n)])\n",
    "y_sample = 7 - x_sample\n",
    "left_of_first_bin = .5\n",
    "right_of_last_bin = 7.5\n",
    "\n",
    "bins = np.arange(left_of_first_bin, right_of_last_bin, 1)\n",
    "\n",
    "f, axs = plt.subplots(2, 1, figsize = (6.4*1, 4.8*2))\n",
    "\n",
    "plt.subplot(2, 1, 1)\n",
    "plt.hist(x_sample, bins, density = True)\n",
    "plt.title('Distribution of X')\n",
    "plt.subplot(2, 1, 2)\n",
    "plt.hist(y_sample, bins, density = True)\n",
    "plt.title('Distribution of Y')\n",
    "plt.show()"
   ]
  },
  {
   "cell_type": "code",
   "execution_count": null,
   "metadata": {},
   "outputs": [],
   "source": [
    "def weak_error(sample_1, sample_2, phi = lambda x:x):\n",
    "    n = len(sample_1)\n",
    "    \n",
    "    w_sum = [None for _ in range(n)]\n",
    "    w_error = [None for _ in range(n)]\n",
    "    \n",
    "    for i in range(n):\n",
    "        if i == 0:\n",
    "            w_sum[0] = phi(sample_1[0]) - phi(sample_2[0])\n",
    "            w_error[0] = w_sum[0]\n",
    "            pass\n",
    "        else:\n",
    "            w_sum[i] = w_sum[i-1] + phi(sample_1[i]) - phi(sample_2[i])\n",
    "            w_error[i] = w_sum[i] / (i+1)\n",
    "            pass\n",
    "        pass\n",
    "    return w_error"
   ]
  },
  {
   "cell_type": "code",
   "execution_count": null,
   "metadata": {},
   "outputs": [],
   "source": [
    "def strong_error(sample_1, sample_2, alpha = 1):\n",
    "    n = len(sample_1)\n",
    "    \n",
    "    s_sum = [None for _ in range(n)]\n",
    "    s_error = [None for _ in range(n)]\n",
    "    \n",
    "    for i in range(n):\n",
    "        if i == 0:\n",
    "            s_sum[0] = np.power(sample_1[0] - sample_2[0], alpha)\n",
    "            s_error[0] = s_sum[0]\n",
    "            pass\n",
    "        else:\n",
    "            s_sum[i] = s_sum[i-1] + np.power(abs(sample_1[i] - sample_2[i]), alpha)\n",
    "            s_error[i] = np.power(s_sum[i]/(i+1), 1/alpha)\n",
    "            pass\n",
    "        pass\n",
    "    return s_error"
   ]
  },
  {
   "cell_type": "code",
   "execution_count": null,
   "metadata": {},
   "outputs": [],
   "source": [
    "plt.plot(weak_error(x_sample, y_sample))\n",
    "plt.plot(strong_error(x_sample, y_sample))\n",
    "plt.show()"
   ]
  },
  {
   "cell_type": "markdown",
   "metadata": {},
   "source": [
    "The results are in agreement with our analysis."
   ]
  },
  {
   "cell_type": "code",
   "execution_count": null,
   "metadata": {},
   "outputs": [],
   "source": []
  }
 ],
 "metadata": {
  "kernelspec": {
   "display_name": "Python 3",
   "language": "python",
   "name": "python3"
  },
  "language_info": {
   "codemirror_mode": {
    "name": "ipython",
    "version": 3
   },
   "file_extension": ".py",
   "mimetype": "text/x-python",
   "name": "python",
   "nbconvert_exporter": "python",
   "pygments_lexer": "ipython3",
   "version": "3.6.6"
  }
 },
 "nbformat": 4,
 "nbformat_minor": 2
}
