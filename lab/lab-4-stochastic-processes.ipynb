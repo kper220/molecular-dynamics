{
 "cells": [
  {
   "cell_type": "markdown",
   "metadata": {},
   "source": [
    "# Stochastic Processes (R)"
   ]
  },
  {
   "cell_type": "markdown",
   "metadata": {},
   "source": [
    "Random choice between 0 and 1."
   ]
  },
  {
   "cell_type": "code",
   "execution_count": null,
   "metadata": {},
   "outputs": [],
   "source": [
    "sample(c(-1, 1), 1)"
   ]
  },
  {
   "cell_type": "markdown",
   "metadata": {},
   "source": [
    "## Wiener Process\n",
    "\n",
    "Let $W(t)$ be a 1-dimensional random walk process. Then $W(t + \\delta t) = W(t) + J(t)\\delta t =  W(t) + J(t)\\delta x^2$, where $J(t)$ is a random variable with equal probability of having value $-1$ and $1$. The relation $\\delta t = \\delta x^2$ is the *diffusion limit*, upon which the random walk becomes a *Wiener process*.\n",
    "\n",
    "We write an algorithm which simulates the Wiener process from 0 to 1 of length 10000 and at initial value 0."
   ]
  },
  {
   "cell_type": "code",
   "execution_count": null,
   "metadata": {},
   "outputs": [],
   "source": [
    "# set length of time space and initial value.\n",
    "n <- 10000\n",
    "iv <- 0\n",
    "tt <- seq(0, 1, length.out = n)\n",
    "\n",
    "t_min <- tt[1]\n",
    "t_max <- tt[n]\n",
    "\n",
    "# calculate increment.\n",
    "dt <- (t_max - t_min) / (n - 1)\n",
    "dx <- sqrt(dt)\n",
    "\n",
    "# create solution space.\n",
    "solution <- vector(length = n)\n",
    "solution[1] <- iv\n",
    "\n",
    "# iterate to retrieve solutions.\n",
    "for (i in 2:n){\n",
    "    solution[i] <- solution[i-1] + dx*sample(c(-1, 1), 1)\n",
    "}\n",
    "\n",
    "plot(tt, solution, \n",
    "     xlab = 't',\n",
    "     ylab = 'W(t)',\n",
    "     main = 'Wiener Process',\n",
    "     type = 'l')"
   ]
  },
  {
   "cell_type": "markdown",
   "metadata": {},
   "source": [
    "Define a function `wiener_process` which takes in a given time space `tt` and initial value `iv`."
   ]
  },
  {
   "cell_type": "code",
   "execution_count": null,
   "metadata": {},
   "outputs": [],
   "source": [
    "wiener_process <- function(tt, iv = 0){\n",
    "    # obtain length of the time space.\n",
    "    n = length(tt)\n",
    "    \n",
    "    # find first, last values, and timestep.\n",
    "    t_min = tt[1]\n",
    "    t_max = tt[n]\n",
    "    dt = (t_max - t_min) / (n - 1)\n",
    "    dx = sqrt(dt)\n",
    "    \n",
    "    # create solution set.\n",
    "    solution = vector(length = n)\n",
    "    solution[1] = iv\n",
    "    \n",
    "    # obtain rest of solutions.\n",
    "    for (i in (2:n)){\n",
    "        solution[i] = solution[i-1] + sample(c(-1, 1), 1)*dx\n",
    "    }\n",
    "    \n",
    "    # return solution.\n",
    "    solution\n",
    "}"
   ]
  },
  {
   "cell_type": "markdown",
   "metadata": {},
   "source": [
    "We simulate three Wiener processes."
   ]
  },
  {
   "cell_type": "code",
   "execution_count": null,
   "metadata": {},
   "outputs": [],
   "source": [
    "tt <- seq(0, 1, length.out = 1000)\n",
    "y1 <- wiener_process(tt)\n",
    "y2 <- wiener_process(tt)\n",
    "y3 <- wiener_process(tt)\n",
    "\n",
    "matplot(tt, cbind(y1, y2, y3), type = 'l')"
   ]
  },
  {
   "cell_type": "code",
   "execution_count": null,
   "metadata": {},
   "outputs": [],
   "source": []
  }
 ],
 "metadata": {
  "kernelspec": {
   "display_name": "R",
   "language": "R",
   "name": "ir"
  },
  "language_info": {
   "codemirror_mode": "r",
   "file_extension": ".r",
   "mimetype": "text/x-r-source",
   "name": "R",
   "pygments_lexer": "r",
   "version": "3.5.0"
  }
 },
 "nbformat": 4,
 "nbformat_minor": 2
}
