{
 "cells": [
  {
   "cell_type": "markdown",
   "metadata": {},
   "source": [
    "# Numerical Methods for Stochastic Differential Equations\n",
    "\n",
    "This is a lab on Matthew's Chapter 7."
   ]
  },
  {
   "cell_type": "code",
   "execution_count": null,
   "metadata": {},
   "outputs": [],
   "source": [
    "# import the relevant libraries.\n",
    "\n",
    "import matplotlib.pyplot as plt\n",
    "from mpl_toolkits import mplot3d\n",
    "import numpy as np\n",
    "import random"
   ]
  },
  {
   "cell_type": "markdown",
   "metadata": {},
   "source": [
    "## Contents\n",
    "\n",
    "- [Random Processes](#Random-Processes)\n",
    "    - [Random Walk](#Random-Walk)\n",
    "    - [Wiener Processes](#Wiener-Processes)\n",
    "    - [Wiener Process Statistical Properties](#Wiener-Process-Statistical-Properties)\n",
    "    - [Random Points on the Surface of an N Ball](#Random-Points-on-the-Surface-of-an-N-Ball)\n",
    "    - [Generalized Wiener Process](#Generalized-Wiener-Process)\n",
    "- [Numerical Methods](#Numerical-Methods)\n",
    "    - [Euler-Maruyama](#Euler-Maruyama)"
   ]
  },
  {
   "cell_type": "markdown",
   "metadata": {},
   "source": [
    "## Random Processes\n",
    "\n",
    "Review of some random processes, e.g. random walk, Wiener process, etc.\n",
    "\n",
    "### Random Walk\n",
    "\n",
    "A random walk is a discrete stochastic process where the state $X_{n+1}$ is related to the state $X_n$ in that they differ by a distance $1$."
   ]
  },
  {
   "cell_type": "code",
   "execution_count": null,
   "metadata": {},
   "outputs": [],
   "source": [
    "# random walk in one dimension.\n",
    "def random_walk_one_dimension(n, x_init):\n",
    "    \n",
    "    # type testing.\n",
    "    if not isinstance(n, int):\n",
    "        raise TypeError('n must be int.')\n",
    "        pass\n",
    "    \n",
    "    def random_walk_iter(x):\n",
    "        return x + random.choice([-1, 1])\n",
    "    \n",
    "    solution = [None for _ in range(n)]\n",
    "    for i in range(n):\n",
    "        if i == 0:\n",
    "            solution[0] = x_init\n",
    "            pass\n",
    "        else:\n",
    "            solution[i] = random_walk_iter(solution[i-1])\n",
    "            pass\n",
    "        pass\n",
    "    return solution"
   ]
  },
  {
   "cell_type": "code",
   "execution_count": null,
   "metadata": {},
   "outputs": [],
   "source": [
    "n = 100\n",
    "plt.plot(range(n), random_walk_one_dimension(n, 0))\n",
    "plt.title('Random Walk')\n",
    "plt.show()"
   ]
  },
  {
   "cell_type": "markdown",
   "metadata": {},
   "source": [
    "### Wiener Process\n",
    "\n",
    "A Wiener Process is a random process $Y(t_{k+1}) = Y(t_k) + \\sqrt{\\delta t}J_k$."
   ]
  },
  {
   "cell_type": "code",
   "execution_count": null,
   "metadata": {},
   "outputs": [],
   "source": [
    "# Wiener process in one dimension.\n",
    "def wiener_process_one_dimension(tt, y_init):\n",
    "    # tt is a linear array.\n",
    "    \n",
    "    # extract data from linear array.\n",
    "    n = len(tt)\n",
    "    t_min = tt[0]\n",
    "    t_max = tt[n-1]\n",
    "    dt = (t_max - t_min) / (n - 1)\n",
    "    \n",
    "    # construct solution set.\n",
    "    solution = [None for _ in range(n)]\n",
    "    \n",
    "    # solve.\n",
    "    for i in range(n):\n",
    "        if i == 0:\n",
    "            solution[0] = y_init\n",
    "            pass\n",
    "        else:\n",
    "            solution[i] = solution[i-1] + np.sqrt(dt)*random.choice([-1, 1])\n",
    "            pass\n",
    "        pass\n",
    "    return solution"
   ]
  },
  {
   "cell_type": "code",
   "execution_count": null,
   "metadata": {
    "scrolled": false
   },
   "outputs": [],
   "source": [
    "tt = np.linspace(0, 1, 1000)\n",
    "\n",
    "for i in range(10):\n",
    "    plt.plot(tt, wiener_process_one_dimension(tt, 0))\n",
    "plt.title('Wiener Process with 1000 Timesteps')\n",
    "plt.show()"
   ]
  },
  {
   "cell_type": "markdown",
   "metadata": {},
   "source": [
    "### Wiener Process Statistical Properties"
   ]
  },
  {
   "cell_type": "markdown",
   "metadata": {},
   "source": [
    "A memory-efficient function for computing a discrete Wiener process at time $t$."
   ]
  },
  {
   "cell_type": "code",
   "execution_count": null,
   "metadata": {},
   "outputs": [],
   "source": [
    "def wiener_process_yield(tt, x_init = 0):\n",
    "    n = len(tt)\n",
    "    t_min, t_max = tt[0], tt[n-1]\n",
    "    dt = (t_max - t_min) / (n - 1)\n",
    "    \n",
    "    for i in range(n - 1):\n",
    "        x_init += random.choice([-1, 1])*np.sqrt(dt)\n",
    "        pass\n",
    "    return x_init"
   ]
  },
  {
   "cell_type": "code",
   "execution_count": null,
   "metadata": {},
   "outputs": [],
   "source": [
    "n = 1000\n",
    "tt = np.linspace(0, 1, 100)\n",
    "\n",
    "sample = [wiener_process_yield(tt) for _ in range(n)]"
   ]
  },
  {
   "cell_type": "code",
   "execution_count": null,
   "metadata": {
    "scrolled": false
   },
   "outputs": [],
   "source": [
    "count, bins, ignored = plt.hist(sample, 30, density = True)\n",
    "plt.title('Frequency Histogram of $W(t)$')\n",
    "plt.show()"
   ]
  },
  {
   "cell_type": "markdown",
   "metadata": {},
   "source": [
    "Verify that Wiener process has mean $0$ and variance $1$"
   ]
  },
  {
   "cell_type": "code",
   "execution_count": null,
   "metadata": {},
   "outputs": [],
   "source": [
    "print(np.mean(sample))\n",
    "print(np.std(sample))"
   ]
  },
  {
   "cell_type": "markdown",
   "metadata": {},
   "source": [
    "### Random Points on the Surface of an N Ball\n",
    "\n",
    "Let $\\mathbf{x}$ be an $n$-dimensional vector of normal deviates and $r = \\vert\\vert x\\vert\\vert$. Then the vector $\\mathbf{x}/r$ is randomly chosen over the surface of an $n$-sphere. (Marsaglia)"
   ]
  },
  {
   "cell_type": "code",
   "execution_count": null,
   "metadata": {},
   "outputs": [],
   "source": [
    "def norm(x):\n",
    "    return np.sqrt(x.dot(x))\n",
    "\n",
    "def unit_sphere(n):\n",
    "    x = np.array([random.normalvariate(0, 1) for _ in range(n)])\n",
    "    r = norm(x)\n",
    "    \n",
    "    return x/r"
   ]
  },
  {
   "cell_type": "code",
   "execution_count": null,
   "metadata": {},
   "outputs": [],
   "source": [
    "# randomly selected points on a ball.\n",
    "\n",
    "n = 1000\n",
    "points = [unit_sphere(3) for _ in range(n)]\n",
    "\n",
    "xx = [point[0] for point in points]\n",
    "yy = [point[1] for point in points]\n",
    "zz = [point[2] for point in points]"
   ]
  },
  {
   "cell_type": "code",
   "execution_count": null,
   "metadata": {},
   "outputs": [],
   "source": [
    "# plot them in three dimensions.\n",
    "\n",
    "plt.figure(figsize = (10, 10))\n",
    "ax = plt.axes(projection = '3d')\n",
    "ax.scatter(xx, yy, zz)\n",
    "plt.title('Random Points on Surface of Ball')\n",
    "plt.show()"
   ]
  },
  {
   "cell_type": "markdown",
   "metadata": {},
   "source": [
    "### Generalized Wiener Process"
   ]
  },
  {
   "cell_type": "code",
   "execution_count": null,
   "metadata": {},
   "outputs": [],
   "source": [
    "# wiener process in n dimensions.\n",
    "\n",
    "def wiener_process(tt, x_init):\n",
    "    \n",
    "    # calculate dimension.\n",
    "    dim = len(x_init)\n",
    "    \n",
    "    # extract data from tt.\n",
    "    n = len(tt)\n",
    "    t_min = tt[0]\n",
    "    t_max = tt[n-1]\n",
    "    dt = (t_max - t_min) / (n - 1)\n",
    "    \n",
    "    # construct solution set.\n",
    "    solution = [None for _ in range(n)]\n",
    "    \n",
    "    # solve.\n",
    "    for i in range(n):\n",
    "        if i == 0:\n",
    "            solution[0] = x_init\n",
    "            pass\n",
    "        else:\n",
    "            solution[i] = solution[i-1] + np.sqrt(dt)*unit_sphere(dim)\n",
    "            pass\n",
    "        pass\n",
    "    return solution"
   ]
  },
  {
   "cell_type": "code",
   "execution_count": null,
   "metadata": {},
   "outputs": [],
   "source": [
    "tt = np.linspace(0, 1, 1000)\n",
    "\n",
    "# a two-dimensional Wiener process.\n",
    "solution = wiener_process(tt, np.array([0, 0]))\n",
    "xx = [s[0] for s in solution]\n",
    "yy = [s[1] for s in solution]\n",
    "\n",
    "plt.figure(figsize = (10, 10))\n",
    "plt.plot(xx, yy)\n",
    "plt.title('2D Wiener Process')\n",
    "plt.show()\n",
    "\n",
    "# a three-dimensional Wiener process\n",
    "solution = wiener_process(tt, np.array([0, 0, 0]))\n",
    "xx = [s[0] for s in solution]\n",
    "yy = [s[1] for s in solution]\n",
    "zz = [s[2] for s in solution]\n",
    "\n",
    "plt.figure(figsize = (10, 10))\n",
    "ax = plt.axes(projection = '3d')\n",
    "ax.plot3D(xx, yy, zz)\n",
    "plt.title('3D Wiener Process')\n",
    "plt.show()"
   ]
  },
  {
   "cell_type": "markdown",
   "metadata": {},
   "source": [
    "## Numerical Methods"
   ]
  },
  {
   "cell_type": "code",
   "execution_count": null,
   "metadata": {},
   "outputs": [],
   "source": [
    "def solve(constructor, initial_condition, tt):\n",
    "    # extract data from tt.\n",
    "    n = len(tt)\n",
    "    t_min, t_max = tt[0], tt[n-1]\n",
    "    h = (t_max - t_min) / (n - 1)\n",
    "    \n",
    "    # method function.\n",
    "    method_function = constructor(h)\n",
    "    \n",
    "    # create vector solution set.\n",
    "    solution = [None for _ in range(n)]\n",
    "    \n",
    "    # compute solutions.\n",
    "    for i, t in enumerate(tt):\n",
    "        if i == 0:\n",
    "            solution[0] = initial_condition\n",
    "            pass\n",
    "        else:\n",
    "            solution[i] = method_function(t, solution[i-1])\n",
    "            pass\n",
    "        pass\n",
    "    return solution"
   ]
  },
  {
   "cell_type": "markdown",
   "metadata": {},
   "source": [
    "### Euler Maruyama\n",
    "\n",
    "The Euler Maruyama method for a stochastic differential equation $dX = a(X)dt + b(X)dW$ is $X_{n+1} = X_n + h\\cdot a(X_n) + b(X_n)\\sqrt{h}R_n$, where $R_n$ is a normal random variable with zero mean and $1$ variance."
   ]
  },
  {
   "cell_type": "code",
   "execution_count": null,
   "metadata": {},
   "outputs": [],
   "source": [
    "def euler_maruyama_constructor(ff):\n",
    "    a, b = ff\n",
    "    def euler_maruyama_stepsize(h):\n",
    "        def euler_maruyama_method(t, state):\n",
    "            return state + h*a(state) + b(state)*np.sqrt(h)*random.normalvariate(0, 1)\n",
    "        \n",
    "        return euler_maruyama_method\n",
    "    return euler_maruyama_stepsize"
   ]
  },
  {
   "cell_type": "markdown",
   "metadata": {},
   "source": [
    "Examine with the SDE $dX = -Xdt + XdW$."
   ]
  },
  {
   "cell_type": "code",
   "execution_count": null,
   "metadata": {},
   "outputs": [],
   "source": [
    "def a(x):\n",
    "    return -x\n",
    "\n",
    "def b(x):\n",
    "    return x"
   ]
  },
  {
   "cell_type": "code",
   "execution_count": null,
   "metadata": {},
   "outputs": [],
   "source": [
    "# set up problem.\n",
    "ff = [a, b]\n",
    "constructor = euler_maruyama_constructor(ff)\n",
    "initial_condition = 10\n",
    "tt = np.linspace(0, 1, 10000)"
   ]
  },
  {
   "cell_type": "code",
   "execution_count": null,
   "metadata": {},
   "outputs": [],
   "source": [
    "solution = solve(constructor, initial_condition, tt)"
   ]
  },
  {
   "cell_type": "code",
   "execution_count": null,
   "metadata": {},
   "outputs": [],
   "source": [
    "plt.plot(tt, solution)\n",
    "plt.title('SDE: $dX = -Xdt + XdW$')\n",
    "plt.show()"
   ]
  },
  {
   "cell_type": "code",
   "execution_count": null,
   "metadata": {},
   "outputs": [],
   "source": []
  }
 ],
 "metadata": {
  "kernelspec": {
   "display_name": "Python 3",
   "language": "python",
   "name": "python3"
  },
  "language_info": {
   "codemirror_mode": {
    "name": "ipython",
    "version": 3
   },
   "file_extension": ".py",
   "mimetype": "text/x-python",
   "name": "python",
   "nbconvert_exporter": "python",
   "pygments_lexer": "ipython3",
   "version": "3.6.6"
  }
 },
 "nbformat": 4,
 "nbformat_minor": 2
}
