{
 "cells": [
  {
   "cell_type": "markdown",
   "metadata": {},
   "source": [
    "# Partial Differential Equations\n",
    "Introductory approach on analytical solutions, numerical approximations, and error analysis of PDEs."
   ]
  },
  {
   "cell_type": "code",
   "execution_count": null,
   "metadata": {},
   "outputs": [],
   "source": [
    "import matplotlib.pyplot as plt\n",
    "from mpl_toolkits import mplot3d\n",
    "import numpy as np"
   ]
  },
  {
   "cell_type": "markdown",
   "metadata": {},
   "source": [
    "## 1d Heat Equation\n",
    "\n",
    "The heat equation in one dimension is\n",
    "$$\\dfrac{\\partial u}{\\partial t} = \\dfrac{\\partial^2u}{\\partial x^2},$$\n",
    "where $u(t, x)$ is a function of time $t$ and space $x$, and has boundary conditions $u\\vert_{x = 0} = u\\vert_{x = L} = 0$, and initial condition $u(x, t = 0) = \\phi(x)$. The general solution to this pde is\n",
    "$$u = \\sum_{n = 1}^\\infty a_ne^{-\\lambda_n^2t}\\sin(\\lambda_nx),$$\n",
    "where $\\lambda_n = n\\pi/L$, and\n",
    "$$a_n = \\dfrac{2}{L}\\int_0^L\\phi(x)\\sin(\\lambda_nx)dx.$$\n",
    "Set $L = 1$ and $\\phi(x) = 1$. Then $\\lambda_n = n\\pi$\n",
    "$$a_n = 2\\int_0^1\\sin(n\\pi x)dx = \\dfrac{1 - \\cos(n\\pi)}{n\\pi} = \\begin{cases}\n",
    "\\dfrac{2}{n\\pi}&n\\textrm{ odd},\\\\\n",
    "0 &\\textrm{else}.\n",
    "\\end{cases}$$\n",
    "Let $n = 2k-1$, then the specific solution is\n",
    "$$u = \\sum_{k = 1}^\\infty\\dfrac{2}{(2k-1)\\pi}e^{-(2k-1)^2\\pi^2t}\\sin[(2k-1)\\pi x].$$"
   ]
  },
  {
   "cell_type": "code",
   "execution_count": null,
   "metadata": {},
   "outputs": [],
   "source": [
    "pi = np.pi\n",
    "exp = np.exp\n",
    "sin = np.sin\n",
    "\n",
    "def heat_equation_terms(t, x, k):\n",
    "    # returns the kth term in the series solution at time t and space x.\n",
    "    return 2/((2*k-1)*pi)*exp(-(2*k-1)**2*pi**2*t)*sin((2*k-1)*pi*x)\n",
    "\n",
    "def heat_equation_solve(t, x, N):\n",
    "    # returns value of u at t, x with N terms in series.\n",
    "    if isinstance(x, np.ndarray):\n",
    "        return np.array([heat_equation_solve(t, _x, N) for _x in x])\n",
    "    if isinstance(t, np.ndarray):\n",
    "        return np.array([heat_equation_solve(_t, x, N) for _t in t])\n",
    "    \n",
    "    return sum(heat_equation_terms(t, x, k) for k in range(1, N+1))"
   ]
  },
  {
   "cell_type": "code",
   "execution_count": null,
   "metadata": {},
   "outputs": [],
   "source": [
    "n, m = 100, 100\n",
    "\n",
    "tt = np.linspace(0, 1, n)\n",
    "xx = np.linspace(0, 1, m)\n",
    "T, X = np.meshgrid(tt, xx)\n",
    "U = heat_equation_solve(tt, xx, 100)"
   ]
  },
  {
   "cell_type": "code",
   "execution_count": null,
   "metadata": {},
   "outputs": [],
   "source": [
    "fig = plt.figure()\n",
    "ax = fig.add_subplot(111)\n",
    "ax.contourf(T, X, U, cmap = 'magma')\n",
    "ax.set_xlabel('t')\n",
    "ax.set_ylabel('x')\n",
    "ax.set_title('Heat Equation in 1D')\n",
    "plt.show()"
   ]
  },
  {
   "cell_type": "markdown",
   "metadata": {},
   "source": [
    "### Explicit Scheme\n",
    "The algorithm for the explicit scheme is\n",
    "$$u_j^{i+1} = \\lambda u_{j+1}^i + (1 - 2\\lambda)u_j^i + \\lambda u_{j-1}^i,$$\n",
    "where $\\lambda = \\Delta t/\\Delta x^2$."
   ]
  },
  {
   "cell_type": "code",
   "execution_count": null,
   "metadata": {},
   "outputs": [],
   "source": [
    "n, m = 145, 10\n",
    "\n",
    "tt = np.linspace(0, 1, n)\n",
    "xx = np.linspace(0, 1, m)\n",
    "T, X = np.meshgrid(tt, xx)\n",
    "\n",
    "t_min, t_max = tt[0], tt[n-1]\n",
    "dt = (t_max - t_min) / (n - 1)\n",
    "\n",
    "x_min, x_max = xx[0], xx[m-1]\n",
    "dx = (x_max - x_min) / (m - 1)\n",
    "\n",
    "# compute lambda.\n",
    "lamb = dt/np.power(dx, 2)\n",
    "print(lamb)\n",
    "\n",
    "# empty solution array.\n",
    "U = np.array([[.0 for _ in range(m)] for _ in range(n)])\n",
    "\n",
    "for i in range(n):\n",
    "    if i == 0:\n",
    "        U[0] = np.array([1. for _ in range(m)])\n",
    "        pass\n",
    "    else:\n",
    "        for j in range(m):\n",
    "            if j == 0 or j == m - 1:\n",
    "                U[i][j] = 0\n",
    "                pass\n",
    "            else:\n",
    "                U[i][j] = lamb*U[i-1][j-1] + (1 - 2*lamb)*U[i-1][j] + lamb*U[i-1][j+1]\n",
    "                pass\n",
    "            pass\n",
    "        pass\n",
    "    pass\n",
    "\n",
    "U = np.transpose(U)"
   ]
  },
  {
   "cell_type": "code",
   "execution_count": null,
   "metadata": {},
   "outputs": [],
   "source": [
    "fig = plt.figure()\n",
    "ax = fig.add_subplot(111)\n",
    "ax.contourf(T, X, U, cmap = 'magma')\n",
    "ax.set_title('Heat Equation (Explicit Scheme)')\n",
    "plt.show()"
   ]
  },
  {
   "cell_type": "markdown",
   "metadata": {},
   "source": [
    "*Note*: $\\lambda$ must be sufficiently small (i.e. $\\lambda\\ll 1$ or $\\Delta t\\ll\\Delta x$), otherwise the solution will diverge. (Explain why having large timesteps $\\Delta t$ would be problematic?)"
   ]
  },
  {
   "cell_type": "code",
   "execution_count": null,
   "metadata": {},
   "outputs": [],
   "source": [
    "def heat_equation_explicit_scheme(tt, xx):\n",
    "    n, m = len(tt), len(xx)\n",
    "    t_min, t_max = tt[0], tt[n-1]\n",
    "    x_min, x_max = xx[0], xx[m-1]\n",
    "    dt, dx = (t_max - t_min)/(n-1), (x_max - x_min)/(m-1)\n",
    "    \n",
    "    lamb = dt/np.power(dx, 2)\n",
    "    \n",
    "    U = np.array([[0. for _ in range(m)] for _ in range(n)])\n",
    "    for i in range(n):\n",
    "        if i == 0:\n",
    "            U[0] = np.array([1. for _ in range(m)])\n",
    "            pass\n",
    "        else:\n",
    "            for j in range(m):\n",
    "                if j == 0 or j == m-1:\n",
    "                    U[i][j] = 0.\n",
    "                    pass\n",
    "                else:\n",
    "                    U[i][j] = lamb*U[i-1][j-1] + (1 - 2*lamb)*U[i-1][j] + lamb*U[i-1][j+1]\n",
    "                    pass\n",
    "                pass\n",
    "            pass\n",
    "        pass\n",
    "    return np.transpose(U), lamb"
   ]
  },
  {
   "cell_type": "markdown",
   "metadata": {},
   "source": [
    "### Stability\n",
    "\n",
    "We find a reasonably accurate solution when $\\lambda<.54$. In fact, the explicit scheme is stable if and only if $\\lambda\\leq 1/2$, termed *conditionally stable*. ([Davis](http://wwwf.imperial.ac.uk/~mdavis/FDM11/LECTURE_SLIDES2.PDF))"
   ]
  },
  {
   "cell_type": "code",
   "execution_count": null,
   "metadata": {
    "scrolled": false
   },
   "outputs": [],
   "source": [
    "nn = [10, 140, 145, 150, 160, 170]\n",
    "\n",
    "m = 10\n",
    "xx = np.linspace(0, 1, m)\n",
    "\n",
    "plt.subplots(len(nn), 1, figsize = (6.4, 4.8*len(nn)))\n",
    "\n",
    "for i, n in enumerate(nn):\n",
    "    tt = np.linspace(0, 1, n)\n",
    "    solution, lamb = heat_equation_explicit_scheme(tt, xx)\n",
    "    T, X = np.meshgrid(tt, xx)\n",
    "    \n",
    "    plt.subplot(len(nn), 1, i+1)\n",
    "    plt.contourf(T, X, solution, cmap = 'magma')\n",
    "    plt.title('n = {}, lambda = {}'.format(n, lamb))\n",
    "    pass\n",
    "plt.show()"
   ]
  },
  {
   "cell_type": "code",
   "execution_count": null,
   "metadata": {},
   "outputs": [],
   "source": []
  }
 ],
 "metadata": {
  "kernelspec": {
   "display_name": "Python 3",
   "language": "python",
   "name": "python3"
  },
  "language_info": {
   "codemirror_mode": {
    "name": "ipython",
    "version": 3
   },
   "file_extension": ".py",
   "mimetype": "text/x-python",
   "name": "python",
   "nbconvert_exporter": "python",
   "pygments_lexer": "ipython3",
   "version": "3.6.6"
  }
 },
 "nbformat": 4,
 "nbformat_minor": 2
}
