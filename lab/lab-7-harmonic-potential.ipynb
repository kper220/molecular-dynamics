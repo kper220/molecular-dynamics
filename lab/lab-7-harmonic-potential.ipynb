{
 "cells": [
  {
   "cell_type": "markdown",
   "metadata": {},
   "source": [
    "# Harmonic potential"
   ]
  },
  {
   "cell_type": "code",
   "execution_count": null,
   "metadata": {},
   "outputs": [],
   "source": [
    "import matplotlib.pyplot as plt\n",
    "import mpl_toolkits.mplot3d as mplot3d\n",
    "import numpy as np"
   ]
  },
  {
   "cell_type": "markdown",
   "metadata": {},
   "source": [
    "## Simple harmonic oscillators\n",
    "\n",
    "The potential energy of a harmonic oscillator is $q^2/2$. The force is then $F = -q$, and the Hamiltonian is $H(q, p) = T + U = q^2/2 + p^2/2$."
   ]
  },
  {
   "cell_type": "code",
   "execution_count": null,
   "metadata": {},
   "outputs": [],
   "source": [
    "def hamiltonian(q, p):\n",
    "    return np.dot(q, q)/2 + np.dot(p, p)/2"
   ]
  },
  {
   "cell_type": "code",
   "execution_count": null,
   "metadata": {},
   "outputs": [],
   "source": [
    "qq = np.linspace(-1, 1, 10)\n",
    "pp = np.linspace(-1, 1, 10)\n",
    "\n",
    "Q, P = np.meshgrid(qq, pp)\n",
    "\n",
    "E = [[None for _ in range(10)] for _ in range(10)]\n",
    "\n",
    "for i, p in enumerate(pp):\n",
    "    for j, q in enumerate(qq):\n",
    "        E[j][i] = hamiltonian(q, p)\n",
    "        pass\n",
    "    pass"
   ]
  },
  {
   "cell_type": "code",
   "execution_count": null,
   "metadata": {},
   "outputs": [],
   "source": [
    "plt.contourf(Q, P, E, 100)\n",
    "plt.title('Contour of Hamiltonian')\n",
    "plt.show()"
   ]
  },
  {
   "cell_type": "markdown",
   "metadata": {},
   "source": [
    "### Equations of motion\n",
    "\n",
    "The equations of motion are $\\dot{q} = p$ and $\\dot{p} = -q$."
   ]
  },
  {
   "cell_type": "markdown",
   "metadata": {},
   "source": [
    "### RK4 integration"
   ]
  },
  {
   "cell_type": "code",
   "execution_count": null,
   "metadata": {},
   "outputs": [],
   "source": [
    "# RK4 approximation.\n",
    "q_init = np.array([1, 0])\n",
    "p_init = np.array([-1, 2])\n",
    "\n",
    "# time series.\n",
    "tt = np.linspace(0, 100, 1000)\n",
    "\n",
    "# time data.\n",
    "n = len(tt)\n",
    "t_min, t_max = tt[0], tt[n-1]\n",
    "h = (t_max - t_min) / (n - 1)\n",
    "\n",
    "# solve for solution.\n",
    "qq = [None for _ in range(n)]\n",
    "pp = [None for _ in range(n)]\n",
    "\n",
    "# compute energies.\n",
    "energy = [None for _ in range(n)]\n",
    "\n",
    "for i in range(n):\n",
    "    if i == 0:\n",
    "        qq[0] = q_init\n",
    "        pp[0] = p_init\n",
    "        energy[0] = hamiltonian(q_init, p_init)\n",
    "        pass\n",
    "    else:\n",
    "        q, p = qq[i-1], pp[i-1]\n",
    "        \n",
    "        # compute k1.\n",
    "        k1q = h*p\n",
    "        k1p = -h*q\n",
    "        \n",
    "        # compute k2.\n",
    "        k2q = h*(p + k1q/2)\n",
    "        k2p = -h*(q + k1p/2)\n",
    "        \n",
    "        # compute k3.\n",
    "        k3q = h*(p + k2q/2)\n",
    "        k3p = -h*(q + k2p/2)\n",
    "        \n",
    "        # compute k4.\n",
    "        k4q = h*(p + k3q)\n",
    "        k4p = - h*(q + k3p)\n",
    "        \n",
    "        # iterate.\n",
    "        qq[i], pp[i] = q + 1/6*(k1q + 2*k2q + 2*k3q + k4q), p + 1/6*(k1p + 2*k2p + 2*k3p + k4p)\n",
    "        \n",
    "        # compute energy.\n",
    "        energy[i] = hamiltonian(q, p)\n",
    "        pass\n",
    "    pass"
   ]
  },
  {
   "cell_type": "code",
   "execution_count": null,
   "metadata": {},
   "outputs": [],
   "source": [
    "xx = [q[0] for q in qq]\n",
    "yy = [q[1] for q in qq]\n",
    "\n",
    "f, axs = plt.subplots(3, 1, figsize=(6.4 * 1, 4.8 * 3))\n",
    "\n",
    "plt.subplot(3, 1, 1)\n",
    "plt.plot(tt, xx)\n",
    "plt.plot(tt, yy)\n",
    "plt.title('Position evolution graph')\n",
    "\n",
    "plt.subplot(3, 1, 2)\n",
    "plt.plot(xx, yy)\n",
    "plt.title('Solution space graph')\n",
    "\n",
    "plt.subplot(3, 1, 3)\n",
    "plt.plot(tt, energy)\n",
    "plt.title('Energy evolution graph')\n",
    "plt.show()"
   ]
  },
  {
   "cell_type": "markdown",
   "metadata": {},
   "source": [
    "In the RK4 case, energy grows exponentially, and mechanical energy is not conserved."
   ]
  },
  {
   "cell_type": "code",
   "execution_count": null,
   "metadata": {},
   "outputs": [],
   "source": [
    "print('Standard deviation: {}'.format(np.std(energy)))"
   ]
  },
  {
   "cell_type": "markdown",
   "metadata": {},
   "source": [
    "### Verlet integration"
   ]
  },
  {
   "cell_type": "code",
   "execution_count": null,
   "metadata": {},
   "outputs": [],
   "source": [
    "# solve.\n",
    "qq = [None for _ in range(n)]\n",
    "pp = [None for _ in range(n)]\n",
    "energy = [None for _ in range(n)]\n",
    "\n",
    "for i in range(n):\n",
    "    if i == 0:\n",
    "        qq[0] = q_init\n",
    "        pp[0] = p_init\n",
    "        energy[0] = hamiltonian(q_init, p_init)\n",
    "        pass\n",
    "    else:\n",
    "        q, p = qq[i-1], pp[i-1]\n",
    "        \n",
    "        _p = p - h*q/2\n",
    "        q_new = q + h*_p\n",
    "        acceleration = -q_new\n",
    "        p_new = _p + h*acceleration/2\n",
    "        \n",
    "        qq[i], pp[i] = q_new, p_new\n",
    "        energy[i] = hamiltonian (q_new, p_new)\n",
    "        pass\n",
    "    pass"
   ]
  },
  {
   "cell_type": "code",
   "execution_count": null,
   "metadata": {},
   "outputs": [],
   "source": [
    "xx = [q[0] for q in qq]\n",
    "yy = [q[1] for q in qq]\n",
    "\n",
    "f, axs = plt.subplots(3, 1, figsize=(6.4 * 1, 4.8 * 3))\n",
    "\n",
    "plt.subplot(3, 1, 1)\n",
    "plt.plot(tt, xx)\n",
    "plt.plot(tt, yy)\n",
    "plt.title('Position evolution graph')\n",
    "\n",
    "plt.subplot(3, 1, 2)\n",
    "plt.plot(xx, yy)\n",
    "plt.title('Solution space graph')\n",
    "\n",
    "plt.subplot(3, 1, 3)\n",
    "plt.plot(tt, energy)\n",
    "plt.title('Energy evolution graph')\n",
    "plt.show()"
   ]
  },
  {
   "cell_type": "code",
   "execution_count": null,
   "metadata": {},
   "outputs": [],
   "source": [
    "print('Standard deviation: {}'.format(np.std(energy)))"
   ]
  },
  {
   "cell_type": "markdown",
   "metadata": {},
   "source": [
    "In the Verlet case, energy is bounded between $0.498$ and $0.5$. Verlet integration conserves the system's mechanical energy."
   ]
  },
  {
   "cell_type": "markdown",
   "metadata": {},
   "source": [
    "## Numerical approximation methods"
   ]
  },
  {
   "cell_type": "code",
   "execution_count": null,
   "metadata": {},
   "outputs": [],
   "source": []
  }
 ],
 "metadata": {
  "kernelspec": {
   "display_name": "Python 3",
   "language": "python",
   "name": "python3"
  },
  "language_info": {
   "codemirror_mode": {
    "name": "ipython",
    "version": 3
   },
   "file_extension": ".py",
   "mimetype": "text/x-python",
   "name": "python",
   "nbconvert_exporter": "python",
   "pygments_lexer": "ipython3",
   "version": "3.6.6"
  }
 },
 "nbformat": 4,
 "nbformat_minor": 2
}
