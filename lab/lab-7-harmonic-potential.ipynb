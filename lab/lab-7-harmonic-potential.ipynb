{
 "cells": [
  {
   "cell_type": "markdown",
   "metadata": {},
   "source": [
    "# Harmonic potential"
   ]
  },
  {
   "cell_type": "code",
   "execution_count": null,
   "metadata": {},
   "outputs": [],
   "source": [
    "import matplotlib.pyplot as plt\n",
    "import mpl_toolkits.mplot3d as mplot3d\n",
    "import numpy as np\n",
    "from scipy import integrate"
   ]
  },
  {
   "cell_type": "markdown",
   "metadata": {},
   "source": [
    "## Simple harmonic oscillators\n",
    "\n",
    "The potential energy of a harmonic oscillator is $q^2/2$. The force is then $F = -q$, and the Hamiltonian is $H(q, p) = T + U = q^2/2 + p^2/2$."
   ]
  },
  {
   "cell_type": "code",
   "execution_count": null,
   "metadata": {},
   "outputs": [],
   "source": [
    "def hamiltonian(q, p):\n",
    "    return np.dot(q, q)/2 + np.dot(p, p)/2"
   ]
  },
  {
   "cell_type": "code",
   "execution_count": null,
   "metadata": {},
   "outputs": [],
   "source": [
    "n = 100\n",
    "\n",
    "qq = np.linspace(-1, 1, n)\n",
    "pp = np.linspace(-1, 1, n)\n",
    "\n",
    "Q, P = np.meshgrid(qq, pp)\n",
    "\n",
    "E = [[None for _ in range(n)] for _ in range(n)]\n",
    "\n",
    "for i, p in enumerate(pp):\n",
    "    for j, q in enumerate(qq):\n",
    "        E[j][i] = hamiltonian(q, p)\n",
    "        pass\n",
    "    pass"
   ]
  },
  {
   "cell_type": "code",
   "execution_count": null,
   "metadata": {},
   "outputs": [],
   "source": [
    "plt.contour(Q, P, E, n)\n",
    "plt.title('Harmonic hamiltonian contour map')\n",
    "plt.show()"
   ]
  },
  {
   "cell_type": "markdown",
   "metadata": {},
   "source": [
    "### Equations of motion\n",
    "\n",
    "The equations of motion are $\\dot{q} = p$ and $\\dot{p} = -q$."
   ]
  },
  {
   "cell_type": "markdown",
   "metadata": {},
   "source": [
    "### RK4 integration"
   ]
  },
  {
   "cell_type": "code",
   "execution_count": null,
   "metadata": {},
   "outputs": [],
   "source": [
    "# RK4 approximation.\n",
    "q_init = np.array([1, 0])\n",
    "p_init = np.array([-1, 2])\n",
    "\n",
    "# time series.\n",
    "tt = np.linspace(0, 100, 1000)\n",
    "\n",
    "# time data.\n",
    "n = len(tt)\n",
    "t_min, t_max = tt[0], tt[n-1]\n",
    "h = (t_max - t_min) / (n - 1)\n",
    "\n",
    "# solve for solution.\n",
    "qq = [None for _ in range(n)]\n",
    "pp = [None for _ in range(n)]\n",
    "\n",
    "# compute energies.\n",
    "energy = [None for _ in range(n)]\n",
    "\n",
    "for i in range(n):\n",
    "    if i == 0:\n",
    "        qq[0] = q_init\n",
    "        pp[0] = p_init\n",
    "        energy[0] = hamiltonian(q_init, p_init)\n",
    "        pass\n",
    "    else:\n",
    "        q, p = qq[i-1], pp[i-1]\n",
    "        \n",
    "        # compute k1.\n",
    "        k1q = h*p\n",
    "        k1p = -h*q\n",
    "        \n",
    "        # compute k2.\n",
    "        k2q = h*(p + k1q/2)\n",
    "        k2p = -h*(q + k1p/2)\n",
    "        \n",
    "        # compute k3.\n",
    "        k3q = h*(p + k2q/2)\n",
    "        k3p = -h*(q + k2p/2)\n",
    "        \n",
    "        # compute k4.\n",
    "        k4q = h*(p + k3q)\n",
    "        k4p = - h*(q + k3p)\n",
    "        \n",
    "        # iterate.\n",
    "        qq[i], pp[i] = q + 1/6*(k1q + 2*k2q + 2*k3q + k4q), p + 1/6*(k1p + 2*k2p + 2*k3p + k4p)\n",
    "        \n",
    "        # compute energy.\n",
    "        energy[i] = hamiltonian(q, p)\n",
    "        pass\n",
    "    pass"
   ]
  },
  {
   "cell_type": "code",
   "execution_count": null,
   "metadata": {},
   "outputs": [],
   "source": [
    "xx = [q[0] for q in qq]\n",
    "yy = [q[1] for q in qq]\n",
    "\n",
    "f, axs = plt.subplots(3, 1, figsize=(6.4 * 1, 4.8 * 3))\n",
    "\n",
    "plt.subplot(3, 1, 1)\n",
    "plt.plot(tt, xx)\n",
    "plt.plot(tt, yy)\n",
    "plt.title('Position evolution graph')\n",
    "\n",
    "plt.subplot(3, 1, 2)\n",
    "plt.plot(xx, yy)\n",
    "plt.title('Solution space graph')\n",
    "\n",
    "plt.subplot(3, 1, 3)\n",
    "plt.plot(tt, energy)\n",
    "plt.title('Energy evolution graph')\n",
    "plt.show()"
   ]
  },
  {
   "cell_type": "markdown",
   "metadata": {},
   "source": [
    "In the RK4 case, energy grows exponentially, and mechanical energy is not conserved."
   ]
  },
  {
   "cell_type": "code",
   "execution_count": null,
   "metadata": {},
   "outputs": [],
   "source": [
    "print('Standard deviation: {}'.format(np.std(energy)))"
   ]
  },
  {
   "cell_type": "markdown",
   "metadata": {},
   "source": [
    "### Verlet integration"
   ]
  },
  {
   "cell_type": "code",
   "execution_count": null,
   "metadata": {},
   "outputs": [],
   "source": [
    "# solve.\n",
    "qq = [None for _ in range(n)]\n",
    "pp = [None for _ in range(n)]\n",
    "energy = [None for _ in range(n)]\n",
    "\n",
    "for i in range(n):\n",
    "    if i == 0:\n",
    "        qq[0] = q_init\n",
    "        pp[0] = p_init\n",
    "        energy[0] = hamiltonian(q_init, p_init)\n",
    "        pass\n",
    "    else:\n",
    "        q, p = qq[i-1], pp[i-1]\n",
    "        \n",
    "        _p = p - h*q/2\n",
    "        q_new = q + h*_p\n",
    "        acceleration = -q_new\n",
    "        p_new = _p + h*acceleration/2\n",
    "        \n",
    "        qq[i], pp[i] = q_new, p_new\n",
    "        energy[i] = hamiltonian (q_new, p_new)\n",
    "        pass\n",
    "    pass"
   ]
  },
  {
   "cell_type": "code",
   "execution_count": null,
   "metadata": {},
   "outputs": [],
   "source": [
    "xx = [q[0] for q in qq]\n",
    "yy = [q[1] for q in qq]\n",
    "\n",
    "f, axs = plt.subplots(3, 1, figsize=(6.4 * 1, 4.8 * 3))\n",
    "\n",
    "plt.subplot(3, 1, 1)\n",
    "plt.plot(tt, xx)\n",
    "plt.plot(tt, yy)\n",
    "plt.title('Position evolution graph')\n",
    "\n",
    "plt.subplot(3, 1, 2)\n",
    "plt.plot(xx, yy)\n",
    "plt.title('Solution space graph')\n",
    "\n",
    "plt.subplot(3, 1, 3)\n",
    "plt.plot(tt, energy)\n",
    "plt.title('Energy evolution graph')\n",
    "plt.show()"
   ]
  },
  {
   "cell_type": "code",
   "execution_count": null,
   "metadata": {},
   "outputs": [],
   "source": [
    "print('Standard deviation: {}'.format(np.std(energy)))"
   ]
  },
  {
   "cell_type": "markdown",
   "metadata": {},
   "source": [
    "In the Verlet case, energy is bounded between $0.498$ and $0.5$. Verlet integration conserves the system's mechanical energy."
   ]
  },
  {
   "cell_type": "markdown",
   "metadata": {},
   "source": [
    "## Stochastic Differential Equations"
   ]
  },
  {
   "cell_type": "markdown",
   "metadata": {},
   "source": [
    "The function `sample_unit_sphere` samples `n` random unit vectors, each vector of dimension `dim`."
   ]
  },
  {
   "cell_type": "code",
   "execution_count": null,
   "metadata": {},
   "outputs": [],
   "source": [
    "def norm(v):\n",
    "    return np.sqrt(v.dot(v))\n",
    "\n",
    "def sample_unit_sphere(states, dimension):\n",
    "    if states == 1:\n",
    "        v = np.array([np.random.normal(0, 1) for _ in range(dimension)])\n",
    "        return v/norm(v)\n",
    "    else:\n",
    "        return np.array([sample_unit_sphere(1, dimension) for _ in range(states)])\n",
    "    pass"
   ]
  },
  {
   "cell_type": "code",
   "execution_count": null,
   "metadata": {
    "scrolled": true
   },
   "outputs": [],
   "source": [
    "sample_unit_sphere(5, 2)"
   ]
  },
  {
   "cell_type": "markdown",
   "metadata": {},
   "source": [
    "The normal distribution, $\\dfrac{1}{\\sqrt{2\\pi\\sigma^2}}\\exp\\bigg(-\\dfrac{(x-\\mu)^2}{2\\sigma^2}\\bigg)$."
   ]
  },
  {
   "cell_type": "code",
   "execution_count": null,
   "metadata": {},
   "outputs": [],
   "source": [
    "def normal_distribution(x, mu = 0, sigma = 1):\n",
    "    return 1/np.sqrt(2*np.pi*sigma)*np.exp(-(x-mu)**2/(2*sigma**2))"
   ]
  },
  {
   "cell_type": "code",
   "execution_count": null,
   "metadata": {},
   "outputs": [],
   "source": [
    "xx = np.linspace(-5, 5, 1000)\n",
    "plt.plot(xx, normal_distribution(xx))\n",
    "plt.title('Normal distribution')\n",
    "plt.show()"
   ]
  },
  {
   "cell_type": "markdown",
   "metadata": {},
   "source": [
    "### Wiener processes\n",
    "\n",
    "A Wiener process is a stochastic differential equation, where $W(t)$ is a random variable which by the Central Limit Theorem satisfies $W(t)\\sim\\mathcal{N}(0, t)$.\n"
   ]
  },
  {
   "cell_type": "code",
   "execution_count": null,
   "metadata": {},
   "outputs": [],
   "source": [
    "def wiener_differential(states, dimension, tt):\n",
    "    # states: number of particles in the initial state.\n",
    "    n = len(tt)\n",
    "    t_min, t_max = tt[0], tt[n-1]\n",
    "    dt = (t_max - t_min) / (n - 1)\n",
    "    \n",
    "    for i in range(n):\n",
    "        yield np.sqrt(dt)*sample_unit_sphere(states, dimension)"
   ]
  },
  {
   "cell_type": "code",
   "execution_count": null,
   "metadata": {},
   "outputs": [],
   "source": [
    "def wiener_process(initial_state, tt):\n",
    "    states = len(initial_state)\n",
    "    dimension = len(initial_state[0])\n",
    "    \n",
    "    current_state = initial_state\n",
    "    \n",
    "    for i, dw in enumerate(wiener_differential(states, dimension, tt)):\n",
    "        if i == 0:\n",
    "            yield current_state\n",
    "            pass\n",
    "        \n",
    "        else:\n",
    "            current_state = current_state + dw\n",
    "            yield current_state\n",
    "            pass\n",
    "        pass\n",
    "    pass"
   ]
  },
  {
   "cell_type": "code",
   "execution_count": null,
   "metadata": {},
   "outputs": [],
   "source": [
    "initial_state = np.array([[0] for _ in range(10**3)])\n",
    "tt = np.linspace(0, 1, 10**3)\n",
    "\n",
    "solution = [w.flatten() for w in wiener_process(initial_state, tt)]"
   ]
  },
  {
   "cell_type": "code",
   "execution_count": null,
   "metadata": {},
   "outputs": [],
   "source": [
    "f, axs = plt.subplots(2, 1, figsize = (6.4*1, 4.8*2))\n",
    "\n",
    "plt.subplot(2, 1, 1)\n",
    "plt.plot(tt, solution)\n",
    "plt.title('Wiener process evolutions')\n",
    "\n",
    "plt.subplot(2, 1, 2)\n",
    "plt.hist(solution[-1], 100, density = True)\n",
    "\n",
    "x_min, x_max = plt.xlim()\n",
    "xx = np.linspace(x_min, x_max, 1000)\n",
    "plt.plot(xx, normal_distribution(xx), label = 'normal distribution fit')\n",
    "plt.title('Wiener process distribution')\n",
    "plt.legend()\n",
    "\n",
    "plt.show()"
   ]
  },
  {
   "cell_type": "markdown",
   "metadata": {},
   "source": [
    "### Ornstein Uhlenbeck process\n",
    "\n",
    "The Ornstein Uhlenbeck (OU) process $$dp = -\\gamma pdt + \\sqrt{2\\gamma kTm}dW,$$ samples in the long term, the probability density $$\\rho(u) = \\dfrac{1}{\\sqrt{2\\pi mkT}}\\exp\\bigg(-\\dfrac{1}{kT}\\dfrac{u^2}{2m}\\bigg).$$"
   ]
  },
  {
   "cell_type": "code",
   "execution_count": null,
   "metadata": {},
   "outputs": [],
   "source": [
    "def gibbs_boltzmann_distribution(u, gamma = 1, k = 1, T = 1, m = 1):\n",
    "    return 1/np.sqrt(2*np.pi*m*k*T) * np.exp(-1/(k*T)*u**2/(2*m))"
   ]
  },
  {
   "cell_type": "code",
   "execution_count": null,
   "metadata": {},
   "outputs": [],
   "source": [
    "xx = np.linspace(-10, 10, 10000)\n",
    "plt.plot(xx, gibbs_boltzmann_distribution(xx))\n",
    "plt.title('Gibbs Boltzmann distribution')\n",
    "plt.show()"
   ]
  },
  {
   "cell_type": "code",
   "execution_count": null,
   "metadata": {},
   "outputs": [],
   "source": [
    "def ou_euler_maruyama(initial_state, tt, gamma = 1, k = 1, T = 1, m = 1):\n",
    "    states = len(initial_state)\n",
    "    dimension = len(initial_state[0])\n",
    "    \n",
    "    n = len(tt)\n",
    "    t_min, t_max = tt[0], tt[n-1]\n",
    "    dt = (t_max - t_min) / (n - 1)\n",
    "    \n",
    "    current_state = initial_state\n",
    "    for i, dw in enumerate(wiener_differential(states, dimension, tt)):\n",
    "        if i == 0:\n",
    "            yield current_state\n",
    "            pass\n",
    "        else:\n",
    "            current_state = current_state - gamma*current_state*dt + np.sqrt(2*gamma*k*T*m)*dw\n",
    "            yield current_state\n",
    "            pass\n",
    "        pass\n",
    "    pass"
   ]
  },
  {
   "cell_type": "code",
   "execution_count": null,
   "metadata": {},
   "outputs": [],
   "source": [
    "initial_state = np.array([[20] for _ in range(10**3)])\n",
    "tt = np.linspace(0, 10, 1000)\n",
    "\n",
    "solution = [w.flatten() for w in ou_euler_maruyama(initial_state, tt)]"
   ]
  },
  {
   "cell_type": "code",
   "execution_count": null,
   "metadata": {},
   "outputs": [],
   "source": [
    "f, axs = plt.subplots(2, 1, figsize = (6.4*1, 4.8*2))\n",
    "\n",
    "plt.subplot(2, 1, 1)\n",
    "plt.plot(tt, solution)\n",
    "plt.title('Ornstein Uhlenbeck process evolutions')\n",
    "\n",
    "plt.subplot(2, 1, 2)\n",
    "plt.hist(solution[-1], 100, density = True)\n",
    "\n",
    "x_min, x_max = plt.xlim()\n",
    "xx = np.linspace(x_min, x_max, 10000)\n",
    "plt.plot(xx, gibbs_boltzmann_distribution(xx), label = 'Gibbs Boltzmann distribution fit')\n",
    "plt.title('Ornstein Uhlenbeck process distribution')\n",
    "plt.legend()\n",
    "\n",
    "plt.show()"
   ]
  },
  {
   "cell_type": "markdown",
   "metadata": {},
   "source": [
    "In the limit of high $\\gamma$, the Gibbs-Boltzmann distribution no longer applies."
   ]
  },
  {
   "cell_type": "markdown",
   "metadata": {},
   "source": [
    "### Langevin dynamics\n",
    "\n",
    "The equations for Langevin dynamics in the case of a harmonic potential $U = q^2/2$ is $$\\begin{split}\n",
    "dq &= pdt/m\\\\\n",
    "dp &= -qdt - \\gamma pdt + \\sqrt{2\\gamma mkT}dW.\n",
    "\\end{split}$$"
   ]
  },
  {
   "cell_type": "code",
   "execution_count": null,
   "metadata": {},
   "outputs": [],
   "source": [
    "def langevin_dynamics_iterator(q, p, dt, dw, m = 1, gamma = 1, k = 1, T = 1):\n",
    "    dq = dt/m * p\n",
    "    dp = - dt*q - dt*gamma*p + dw*np.sqrt(2*gamma*k*T*m)\n",
    "    return [q + dq, p + dp]"
   ]
  },
  {
   "cell_type": "code",
   "execution_count": null,
   "metadata": {},
   "outputs": [],
   "source": [
    "def langevin_dynamics(initial_state, tt, gamma = 1, k = 1, T = 1, m = 100):\n",
    "    q_init, p_init = initial_state\n",
    "    states = len(q_init)\n",
    "    dimension = len(q_init[0])\n",
    "    \n",
    "    n = len(tt)\n",
    "    t_min, t_max = tt[0], tt[n-1]\n",
    "    dt = (t_max - t_min) / (n - 1)\n",
    "    \n",
    "    current_state = initial_state\n",
    "    for i, dw in enumerate(wiener_differential(states, dimension, tt)):\n",
    "        if i == 0:\n",
    "            yield current_state\n",
    "            pass\n",
    "        else:\n",
    "            current_q, current_p = current_state\n",
    "            new_q, new_p = langevin_dynamics_iterator(current_q, current_p, dt, dw)\n",
    "            current_state = [new_q, new_p]\n",
    "            yield current_state\n",
    "            pass\n",
    "        pass\n",
    "    pass"
   ]
  },
  {
   "cell_type": "code",
   "execution_count": null,
   "metadata": {},
   "outputs": [],
   "source": [
    "initial_state = [\n",
    "    np.array([[0] for _ in range(10**3)]), # initial position\n",
    "    np.array([[3] for _ in range(10**3)])  # initial momentum\n",
    "]\n",
    "tt = np.linspace(0, 1, 1000)\n",
    "solution = [w for w in langevin_dynamics(initial_state, tt)]\n",
    "\n",
    "# extract positions.\n",
    "qq = [s[0].flatten() for s in solution]\n",
    "pp = [s[1].flatten() for s in solution]"
   ]
  },
  {
   "cell_type": "code",
   "execution_count": null,
   "metadata": {},
   "outputs": [],
   "source": [
    "f, axs = plt.subplots(3, 1, figsize = (6.4*1, 4.8*3))\n",
    "\n",
    "plt.subplot(3, 1, 1)\n",
    "plt.plot(tt, qq)\n",
    "plt.title('Harmonic Langevin dynamics position evolutions')\n",
    "\n",
    "plt.subplot(3, 1, 2)\n",
    "plt.plot(tt, pp)\n",
    "plt.title('Harmonic Langevin dynamics momenta evolutions')\n",
    "\n",
    "plt.subplot(3, 1, 3)\n",
    "plt.hist(pp[-1], 100, density = True)\n",
    "plt.title('Harmonic Langevin dynamics momentum distribution')\n",
    "\n",
    "plt.show()"
   ]
  },
  {
   "cell_type": "markdown",
   "metadata": {},
   "source": [
    "## Splitting Methods\n",
    "\n",
    "Consider three parts of the Langevin dynamics equations in the case of a harmonic potential, $$\\begin{split}\n",
    "\\mathcal{U}_h^A(q, p) &= (q + hM^{-1}p, p),\\\\\n",
    "\\mathcal{U}_h^B(q, p) &= (q, p - hq),\\\\\n",
    "\\mathcal{U}_h^O(q, p) &= \\big(q, e^{-\\gamma h}p + \\sqrt{k_BT(1 - e^{-2\\gamma h})}M^{1/2}R\\big).\n",
    "\\end{split}$$"
   ]
  },
  {
   "cell_type": "code",
   "execution_count": null,
   "metadata": {},
   "outputs": [],
   "source": [
    "def langevin_dynamics_splitting_functions(initial_state, tt, method, m = 1, gamma = 1, k = 1, T = 1):\n",
    "    \n",
    "    q_init, p_init = initial_state\n",
    "    states = len(q_init)\n",
    "    dimension = len(q_init[0])\n",
    "    \n",
    "    n = len(tt)\n",
    "    t_min, t_max = tt[0], tt[n-1]\n",
    "    h = (t_max - t_min) / (n - 1)\n",
    "    \n",
    "    a_count = method.count('a')\n",
    "    b_count = method.count('b')\n",
    "    o_count = method.count('o')\n",
    "    \n",
    "    def u_a(state):\n",
    "        # returns next state.\n",
    "        q, p = state\n",
    "        new_q = q + h*p/m/a_count\n",
    "        new_p = p\n",
    "        return [new_q, new_p]\n",
    "    \n",
    "    def u_b(state):\n",
    "        q, p = state\n",
    "        new_q = q\n",
    "        new_p = p - h*q/b_count\n",
    "        return [new_q, new_p]\n",
    "    \n",
    "    def u_o(state):\n",
    "        q, p = state\n",
    "        new_q = q\n",
    "        new_p = np.exp(-gamma*h/o_count)*p + np.sqrt(k*T*(1-np.exp(-2*gamma*h/o_count))*m)*sample_unit_sphere(states, dimension)\n",
    "        return [new_q, new_p]\n",
    "    \n",
    "    part_functions = {\n",
    "        'a':u_a,\n",
    "        'b':u_b,\n",
    "        'o':u_o\n",
    "    }\n",
    "    \n",
    "    def scheme(state):\n",
    "        current_state = state\n",
    "        for char in method[::-1]:\n",
    "            current_state = part_functions[char](current_state)\n",
    "            pass\n",
    "        \n",
    "        return current_state\n",
    "    \n",
    "    def solve():\n",
    "        current_state = initial_state\n",
    "        \n",
    "        for i in range(n):\n",
    "            if i == 0:\n",
    "                yield initial_state\n",
    "                pass\n",
    "            else:\n",
    "                current_state = scheme(current_state)\n",
    "                yield current_state\n",
    "                pass\n",
    "            pass\n",
    "        pass\n",
    "    \n",
    "    return scheme, solve"
   ]
  },
  {
   "cell_type": "code",
   "execution_count": null,
   "metadata": {},
   "outputs": [],
   "source": [
    "initial_state = [\n",
    "    np.array([[1]]),\n",
    "    np.array([[1]])\n",
    "]\n",
    "tt = np.linspace(0, 1, 2)\n",
    "\n",
    "scheme, solve = langevin_dynamics_splitting_functions(initial_state, tt, 'oab')\n",
    "scheme(initial_state)"
   ]
  },
  {
   "cell_type": "markdown",
   "metadata": {},
   "source": [
    "We can experiment with various schemes by changing the scheme name."
   ]
  },
  {
   "cell_type": "code",
   "execution_count": null,
   "metadata": {},
   "outputs": [],
   "source": [
    "initial_state = [\n",
    "    np.array([[0] for _ in range(10**3)]), # initial position\n",
    "    np.array([[3] for _ in range(10**3)])  # initial momentum\n",
    "]\n",
    "tt = np.linspace(0, 1, 1000)"
   ]
  },
  {
   "cell_type": "code",
   "execution_count": null,
   "metadata": {},
   "outputs": [],
   "source": [
    "scheme, solve = langevin_dynamics_splitting_functions(initial_state, tt, 'baoab')\n",
    "solution = [s for s in solve()]\n",
    "\n",
    "# extract positions.\n",
    "qq = [s[0].flatten() for s in solution]\n",
    "pp = [s[1].flatten() for s in solution]"
   ]
  },
  {
   "cell_type": "code",
   "execution_count": null,
   "metadata": {},
   "outputs": [],
   "source": [
    "f, axs = plt.subplots(3, 1, figsize = (6.4*1, 4.8*3))\n",
    "\n",
    "plt.subplot(3, 1, 1)\n",
    "plt.plot(tt, qq)\n",
    "plt.title('Position evolutions')\n",
    "\n",
    "plt.subplot(3, 1, 2)\n",
    "plt.plot(tt, pp)\n",
    "plt.title('Momentum evolutions')\n",
    "\n",
    "plt.subplot(3, 1, 3)\n",
    "plt.hist(pp[-1], 100, density = True)\n",
    "plt.title('Distribution for p')\n",
    "\n",
    "plt.show()"
   ]
  },
  {
   "cell_type": "code",
   "execution_count": null,
   "metadata": {},
   "outputs": [],
   "source": []
  }
 ],
 "metadata": {
  "kernelspec": {
   "display_name": "Python 3",
   "language": "python",
   "name": "python3"
  },
  "language_info": {
   "codemirror_mode": {
    "name": "ipython",
    "version": 3
   },
   "file_extension": ".py",
   "mimetype": "text/x-python",
   "name": "python",
   "nbconvert_exporter": "python",
   "pygments_lexer": "ipython3",
   "version": "3.6.6"
  }
 },
 "nbformat": 4,
 "nbformat_minor": 2
}
